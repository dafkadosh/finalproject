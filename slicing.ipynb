{
 "cells": [
  {
   "metadata": {
    "ExecuteTime": {
     "end_time": "2024-07-06T09:37:12.316351Z",
     "start_time": "2024-07-06T09:37:12.208659Z"
    }
   },
   "cell_type": "code",
   "source": [
    "import os\n",
    "import random\n",
    "from tifffile import imread, imwrite\n",
    "\n",
    "def split_tiff(tiff_path, train_dir, test_dir, indices, is_label=False):\n",
    "    # Read the TIFF file\n",
    "    tiff_data = imread(tiff_path)\n",
    "\n",
    "    # Check if the TIFF file contains multiple slices\n",
    "    if len(tiff_data.shape) != 3:\n",
    "        print(\"The TIFF file does not contain multiple slices.\")\n",
    "        return\n",
    "\n",
    "    # Create the output directories if they don't exist\n",
    "    os.makedirs(train_dir, exist_ok=True)\n",
    "    os.makedirs(test_dir, exist_ok=True)\n",
    "\n",
    "    # Initialize counters for train and test slices\n",
    "    train_counter = 0\n",
    "    test_counter = 0\n",
    "\n",
    "    # Save the slices into the appropriate directories\n",
    "    for i, slice_data in enumerate(tiff_data):\n",
    "        if i in indices['test']:\n",
    "            if is_label:\n",
    "                slice_filename = f\"image_{test_counter+1:03d}.tif\"  # No channel suffix for labels\n",
    "            else:\n",
    "                slice_filename = f\"image_{test_counter+1:03d}_0000.tif\"  # Channel suffix for images\n",
    "            slice_path = os.path.join(test_dir, slice_filename)\n",
    "            print(f\"Slice {i+1} saved as {slice_path} (Test)\")\n",
    "            test_counter += 1\n",
    "        else:\n",
    "            if is_label:\n",
    "                slice_filename = f\"image_{train_counter+1:03d}.tif\"  # No channel suffix for labels\n",
    "            else:\n",
    "                slice_filename = f\"image_{train_counter+1:03d}_0000.tif\"  # Channel suffix for images\n",
    "            slice_path = os.path.join(train_dir, slice_filename)\n",
    "            print(f\"Slice {i+1} saved as {slice_path} (Train)\")\n",
    "            train_counter += 1\n",
    "\n",
    "        imwrite(slice_path, slice_data)\n",
    "\n",
    "    print(\"Slicing complete.\")\n",
    "\n",
    "def determine_split_indices(total_slices, test_ratio=0.2):\n",
    "    indices = list(range(total_slices))\n",
    "    random.shuffle(indices)\n",
    "    split_point = int(total_slices * test_ratio)\n",
    "    return {'test': indices[:split_point], 'train': indices[split_point:]}\n",
    "\n",
    "# Specify the path to your image and label TIFF files\n",
    "image_tiff_path = r\"/argusdata/users/undergrads/ItamarAndDafna/Final_Project_rawdata/15_30_HIGH_5_LOW 3CM/M2/Interpolated 640 M2 stack.tif\"\n",
    "label_tiff_path = r\"/argusdata/users/undergrads/ItamarAndDafna/Final_Project_rawdata/15_30_HIGH_5_LOW 3CM/M2/initial mask.tiff\"\n",
    "\n",
    "# Specify the output directories for training and testing\n",
    "image_train_dir = r\"/argusdata/users/undergrads/ItamarAndDafna/nnUNet/nnUNet_raw/Dataset026_1530640M2/imagesTr\"\n",
    "image_test_dir = r\"/argusdata/users/undergrads/ItamarAndDafna/nnUNet/nnUNet_raw/Dataset026_1530640M2/imagesTs\"\n",
    "label_train_dir = r\"/argusdata/users/undergrads/ItamarAndDafna/nnUNet/nnUNet_raw/Dataset026_1530640M2/labelsTr\"\n",
    "label_test_dir = r\"/argusdata/users/undergrads/ItamarAndDafna/nnUNet/nnUNet_raw/Dataset026_1530640M2/labelsTs\"  # Ground truth information for comparison later\n",
    "\n",
    "# Read the image TIFF file to determine the number of slices\n",
    "tiff_data = imread(image_tiff_path)\n",
    "total_slices = tiff_data.shape[0]\n",
    "\n",
    "# Determine the split indices\n",
    "indices = determine_split_indices(total_slices, test_ratio=0.2)\n",
    "\n",
    "# Call the function to split the image TIFF file into individual slices (with channel suffix)\n",
    "split_tiff(image_tiff_path, image_train_dir, image_test_dir, indices)\n",
    "\n",
    "# Call the function to split the label TIFF file into individual slices (without channel suffix)\n",
    "split_tiff(label_tiff_path, label_train_dir, label_test_dir, indices, is_label=True)"
   ],
   "id": "a401cba4b2d4093c",
   "outputs": [
    {
     "ename": "FileNotFoundError",
     "evalue": "[Errno 2] No such file or directory: '/argusdata/users/undergrads/ItamarAndDafna/Final_Project_rawdata/all_imgs/10_30_HIGH_5_LOW_2CR_M1_Gly.tif'",
     "output_type": "error",
     "traceback": [
      "\u001B[0;31m---------------------------------------------------------------------------\u001B[0m",
      "\u001B[0;31mFileNotFoundError\u001B[0m                         Traceback (most recent call last)",
      "\u001B[0;32m/tmp/ipykernel_11438/140125788.py\u001B[0m in \u001B[0;36m?\u001B[0;34m()\u001B[0m\n\u001B[1;32m     58\u001B[0m \u001B[0mlabel_train_dir\u001B[0m \u001B[0;34m=\u001B[0m \u001B[0;34mr\"/argusdata/users/undergrads/ItamarAndDafna/nnUNet/nnUNet_raw/Dataset296_dafnatest2906/labelsTr\"\u001B[0m\u001B[0;34m\u001B[0m\u001B[0;34m\u001B[0m\u001B[0m\n\u001B[1;32m     59\u001B[0m \u001B[0mlabel_test_dir\u001B[0m \u001B[0;34m=\u001B[0m \u001B[0;34mr\"/argusdata/users/undergrads/ItamarAndDafna/nnUNet/nnUNet_raw/Dataset296_dafnatest2906/labelsTs\"\u001B[0m  \u001B[0;31m# Ground truth information for comparison later\u001B[0m\u001B[0;34m\u001B[0m\u001B[0;34m\u001B[0m\u001B[0m\n\u001B[1;32m     60\u001B[0m \u001B[0;34m\u001B[0m\u001B[0m\n\u001B[1;32m     61\u001B[0m \u001B[0;31m# Read the image TIFF file to determine the number of slices\u001B[0m\u001B[0;34m\u001B[0m\u001B[0;34m\u001B[0m\u001B[0m\n\u001B[0;32m---> 62\u001B[0;31m \u001B[0mtiff_data\u001B[0m \u001B[0;34m=\u001B[0m \u001B[0mimread\u001B[0m\u001B[0;34m(\u001B[0m\u001B[0mimage_tiff_path\u001B[0m\u001B[0;34m)\u001B[0m\u001B[0;34m\u001B[0m\u001B[0;34m\u001B[0m\u001B[0m\n\u001B[0m\u001B[1;32m     63\u001B[0m \u001B[0mtotal_slices\u001B[0m \u001B[0;34m=\u001B[0m \u001B[0mtiff_data\u001B[0m\u001B[0;34m.\u001B[0m\u001B[0mshape\u001B[0m\u001B[0;34m[\u001B[0m\u001B[0;36m0\u001B[0m\u001B[0;34m]\u001B[0m\u001B[0;34m\u001B[0m\u001B[0;34m\u001B[0m\u001B[0m\n\u001B[1;32m     64\u001B[0m \u001B[0;34m\u001B[0m\u001B[0m\n\u001B[1;32m     65\u001B[0m \u001B[0;31m# Determine the split indices\u001B[0m\u001B[0;34m\u001B[0m\u001B[0;34m\u001B[0m\u001B[0m\n",
      "\u001B[0;32m~/.conda/envs/dafkad-env/lib/python3.10/site-packages/tifffile/tifffile.py\u001B[0m in \u001B[0;36m?\u001B[0;34m(***failed resolving arguments***)\u001B[0m\n\u001B[1;32m   1233\u001B[0m \u001B[0;34m\u001B[0m\u001B[0m\n\u001B[1;32m   1234\u001B[0m         if isinstance(files, str) or not isinstance(\n\u001B[1;32m   1235\u001B[0m             \u001B[0mfiles\u001B[0m\u001B[0;34m,\u001B[0m \u001B[0mcollections\u001B[0m\u001B[0;34m.\u001B[0m\u001B[0mabc\u001B[0m\u001B[0;34m.\u001B[0m\u001B[0mSequence\u001B[0m\u001B[0;34m\u001B[0m\u001B[0;34m\u001B[0m\u001B[0m\n\u001B[1;32m   1236\u001B[0m         ):\n\u001B[0;32m-> 1237\u001B[0;31m             with TiffFile(\n\u001B[0m\u001B[1;32m   1238\u001B[0m                 \u001B[0mfiles\u001B[0m\u001B[0;34m,\u001B[0m\u001B[0;34m\u001B[0m\u001B[0;34m\u001B[0m\u001B[0m\n\u001B[1;32m   1239\u001B[0m                 \u001B[0mmode\u001B[0m\u001B[0;34m=\u001B[0m\u001B[0mmode\u001B[0m\u001B[0;34m,\u001B[0m\u001B[0;34m\u001B[0m\u001B[0;34m\u001B[0m\u001B[0m\n\u001B[1;32m   1240\u001B[0m                 \u001B[0mname\u001B[0m\u001B[0;34m=\u001B[0m\u001B[0mname\u001B[0m\u001B[0;34m,\u001B[0m\u001B[0;34m\u001B[0m\u001B[0;34m\u001B[0m\u001B[0m\n",
      "\u001B[0;32m~/.conda/envs/dafkad-env/lib/python3.10/site-packages/tifffile/tifffile.py\u001B[0m in \u001B[0;36m?\u001B[0;34m(self, file, mode, name, offset, size, omexml, _multifile, _useframes, _parent, **is_flags)\u001B[0m\n\u001B[1;32m   4243\u001B[0m                 \u001B[0;32mraise\u001B[0m \u001B[0mValueError\u001B[0m\u001B[0;34m(\u001B[0m\u001B[0;34m'invalid OME-XML'\u001B[0m\u001B[0;34m)\u001B[0m\u001B[0;34m\u001B[0m\u001B[0;34m\u001B[0m\u001B[0m\n\u001B[1;32m   4244\u001B[0m             \u001B[0mself\u001B[0m\u001B[0;34m.\u001B[0m\u001B[0m_omexml\u001B[0m \u001B[0;34m=\u001B[0m \u001B[0momexml\u001B[0m\u001B[0;34m\u001B[0m\u001B[0;34m\u001B[0m\u001B[0m\n\u001B[1;32m   4245\u001B[0m             \u001B[0mself\u001B[0m\u001B[0;34m.\u001B[0m\u001B[0mis_ome\u001B[0m \u001B[0;34m=\u001B[0m \u001B[0;32mTrue\u001B[0m\u001B[0;34m\u001B[0m\u001B[0;34m\u001B[0m\u001B[0m\n\u001B[1;32m   4246\u001B[0m \u001B[0;34m\u001B[0m\u001B[0m\n\u001B[0;32m-> 4247\u001B[0;31m         \u001B[0mfh\u001B[0m \u001B[0;34m=\u001B[0m \u001B[0mFileHandle\u001B[0m\u001B[0;34m(\u001B[0m\u001B[0mfile\u001B[0m\u001B[0;34m,\u001B[0m \u001B[0mmode\u001B[0m\u001B[0;34m=\u001B[0m\u001B[0mmode\u001B[0m\u001B[0;34m,\u001B[0m \u001B[0mname\u001B[0m\u001B[0;34m=\u001B[0m\u001B[0mname\u001B[0m\u001B[0;34m,\u001B[0m \u001B[0moffset\u001B[0m\u001B[0;34m=\u001B[0m\u001B[0moffset\u001B[0m\u001B[0;34m,\u001B[0m \u001B[0msize\u001B[0m\u001B[0;34m=\u001B[0m\u001B[0msize\u001B[0m\u001B[0;34m)\u001B[0m\u001B[0;34m\u001B[0m\u001B[0;34m\u001B[0m\u001B[0m\n\u001B[0m\u001B[1;32m   4248\u001B[0m         \u001B[0mself\u001B[0m\u001B[0;34m.\u001B[0m\u001B[0m_fh\u001B[0m \u001B[0;34m=\u001B[0m \u001B[0mfh\u001B[0m\u001B[0;34m\u001B[0m\u001B[0;34m\u001B[0m\u001B[0m\n\u001B[1;32m   4249\u001B[0m         \u001B[0mself\u001B[0m\u001B[0;34m.\u001B[0m\u001B[0m_multifile\u001B[0m \u001B[0;34m=\u001B[0m \u001B[0;32mTrue\u001B[0m \u001B[0;32mif\u001B[0m \u001B[0m_multifile\u001B[0m \u001B[0;32mis\u001B[0m \u001B[0;32mNone\u001B[0m \u001B[0;32melse\u001B[0m \u001B[0mbool\u001B[0m\u001B[0;34m(\u001B[0m\u001B[0m_multifile\u001B[0m\u001B[0;34m)\u001B[0m\u001B[0;34m\u001B[0m\u001B[0;34m\u001B[0m\u001B[0m\n\u001B[1;32m   4250\u001B[0m         \u001B[0mself\u001B[0m\u001B[0;34m.\u001B[0m\u001B[0m_files\u001B[0m \u001B[0;34m=\u001B[0m \u001B[0;34m{\u001B[0m\u001B[0mfh\u001B[0m\u001B[0;34m.\u001B[0m\u001B[0mname\u001B[0m\u001B[0;34m:\u001B[0m \u001B[0mself\u001B[0m\u001B[0;34m}\u001B[0m\u001B[0;34m\u001B[0m\u001B[0;34m\u001B[0m\u001B[0m\n",
      "\u001B[0;32m~/.conda/envs/dafkad-env/lib/python3.10/site-packages/tifffile/tifffile.py\u001B[0m in \u001B[0;36m?\u001B[0;34m(self, file, mode, name, offset, size)\u001B[0m\n\u001B[1;32m  14608\u001B[0m         \u001B[0mself\u001B[0m\u001B[0;34m.\u001B[0m\u001B[0m_offset\u001B[0m \u001B[0;34m=\u001B[0m \u001B[0;34m-\u001B[0m\u001B[0;36m1\u001B[0m \u001B[0;32mif\u001B[0m \u001B[0moffset\u001B[0m \u001B[0;32mis\u001B[0m \u001B[0;32mNone\u001B[0m \u001B[0;32melse\u001B[0m \u001B[0moffset\u001B[0m\u001B[0;34m\u001B[0m\u001B[0;34m\u001B[0m\u001B[0m\n\u001B[1;32m  14609\u001B[0m         \u001B[0mself\u001B[0m\u001B[0;34m.\u001B[0m\u001B[0m_size\u001B[0m \u001B[0;34m=\u001B[0m \u001B[0;34m-\u001B[0m\u001B[0;36m1\u001B[0m \u001B[0;32mif\u001B[0m \u001B[0msize\u001B[0m \u001B[0;32mis\u001B[0m \u001B[0;32mNone\u001B[0m \u001B[0;32melse\u001B[0m \u001B[0msize\u001B[0m\u001B[0;34m\u001B[0m\u001B[0;34m\u001B[0m\u001B[0m\n\u001B[1;32m  14610\u001B[0m         \u001B[0mself\u001B[0m\u001B[0;34m.\u001B[0m\u001B[0m_close\u001B[0m \u001B[0;34m=\u001B[0m \u001B[0;32mTrue\u001B[0m\u001B[0;34m\u001B[0m\u001B[0;34m\u001B[0m\u001B[0m\n\u001B[1;32m  14611\u001B[0m         \u001B[0mself\u001B[0m\u001B[0;34m.\u001B[0m\u001B[0m_lock\u001B[0m \u001B[0;34m=\u001B[0m \u001B[0mNullContext\u001B[0m\u001B[0;34m(\u001B[0m\u001B[0;34m)\u001B[0m\u001B[0;34m\u001B[0m\u001B[0;34m\u001B[0m\u001B[0m\n\u001B[0;32m> 14612\u001B[0;31m         \u001B[0mself\u001B[0m\u001B[0;34m.\u001B[0m\u001B[0mopen\u001B[0m\u001B[0;34m(\u001B[0m\u001B[0;34m)\u001B[0m\u001B[0;34m\u001B[0m\u001B[0;34m\u001B[0m\u001B[0m\n\u001B[0m\u001B[1;32m  14613\u001B[0m         \u001B[0;32massert\u001B[0m \u001B[0mself\u001B[0m\u001B[0;34m.\u001B[0m\u001B[0m_fh\u001B[0m \u001B[0;32mis\u001B[0m \u001B[0;32mnot\u001B[0m \u001B[0;32mNone\u001B[0m\u001B[0;34m\u001B[0m\u001B[0;34m\u001B[0m\u001B[0m\n",
      "\u001B[0;32m~/.conda/envs/dafkad-env/lib/python3.10/site-packages/tifffile/tifffile.py\u001B[0m in \u001B[0;36m?\u001B[0;34m(self)\u001B[0m\n\u001B[1;32m  14627\u001B[0m             \u001B[0;32mif\u001B[0m \u001B[0mself\u001B[0m\u001B[0;34m.\u001B[0m\u001B[0m_mode\u001B[0m \u001B[0;32mnot\u001B[0m \u001B[0;32min\u001B[0m \u001B[0;34m{\u001B[0m\u001B[0;34m'rb'\u001B[0m\u001B[0;34m,\u001B[0m \u001B[0;34m'r+b'\u001B[0m\u001B[0;34m,\u001B[0m \u001B[0;34m'wb'\u001B[0m\u001B[0;34m,\u001B[0m \u001B[0;34m'xb'\u001B[0m\u001B[0;34m}\u001B[0m\u001B[0;34m:\u001B[0m\u001B[0;34m\u001B[0m\u001B[0;34m\u001B[0m\u001B[0m\n\u001B[1;32m  14628\u001B[0m                 \u001B[0;32mraise\u001B[0m \u001B[0mValueError\u001B[0m\u001B[0;34m(\u001B[0m\u001B[0;34mf'invalid mode {self._mode}'\u001B[0m\u001B[0;34m)\u001B[0m\u001B[0;34m\u001B[0m\u001B[0;34m\u001B[0m\u001B[0m\n\u001B[1;32m  14629\u001B[0m             \u001B[0mself\u001B[0m\u001B[0;34m.\u001B[0m\u001B[0m_file\u001B[0m \u001B[0;34m=\u001B[0m \u001B[0mos\u001B[0m\u001B[0;34m.\u001B[0m\u001B[0mpath\u001B[0m\u001B[0;34m.\u001B[0m\u001B[0mrealpath\u001B[0m\u001B[0;34m(\u001B[0m\u001B[0mself\u001B[0m\u001B[0;34m.\u001B[0m\u001B[0m_file\u001B[0m\u001B[0;34m)\u001B[0m\u001B[0;34m\u001B[0m\u001B[0;34m\u001B[0m\u001B[0m\n\u001B[1;32m  14630\u001B[0m             \u001B[0mself\u001B[0m\u001B[0;34m.\u001B[0m\u001B[0m_dir\u001B[0m\u001B[0;34m,\u001B[0m \u001B[0mself\u001B[0m\u001B[0;34m.\u001B[0m\u001B[0m_name\u001B[0m \u001B[0;34m=\u001B[0m \u001B[0mos\u001B[0m\u001B[0;34m.\u001B[0m\u001B[0mpath\u001B[0m\u001B[0;34m.\u001B[0m\u001B[0msplit\u001B[0m\u001B[0;34m(\u001B[0m\u001B[0mself\u001B[0m\u001B[0;34m.\u001B[0m\u001B[0m_file\u001B[0m\u001B[0;34m)\u001B[0m\u001B[0;34m\u001B[0m\u001B[0;34m\u001B[0m\u001B[0m\n\u001B[0;32m> 14631\u001B[0;31m             self._fh = open(\n\u001B[0m\u001B[1;32m  14632\u001B[0m                 \u001B[0mself\u001B[0m\u001B[0;34m.\u001B[0m\u001B[0m_file\u001B[0m\u001B[0;34m,\u001B[0m \u001B[0mself\u001B[0m\u001B[0;34m.\u001B[0m\u001B[0m_mode\u001B[0m\u001B[0;34m,\u001B[0m \u001B[0mencoding\u001B[0m\u001B[0;34m=\u001B[0m\u001B[0;32mNone\u001B[0m\u001B[0;34m\u001B[0m\u001B[0;34m\u001B[0m\u001B[0m\n\u001B[1;32m  14633\u001B[0m             )  # type: ignore\n\u001B[1;32m  14634\u001B[0m             \u001B[0mself\u001B[0m\u001B[0;34m.\u001B[0m\u001B[0m_close\u001B[0m \u001B[0;34m=\u001B[0m \u001B[0;32mTrue\u001B[0m\u001B[0;34m\u001B[0m\u001B[0;34m\u001B[0m\u001B[0m\n",
      "\u001B[0;31mFileNotFoundError\u001B[0m: [Errno 2] No such file or directory: '/argusdata/users/undergrads/ItamarAndDafna/Final_Project_rawdata/all_imgs/10_30_HIGH_5_LOW_2CR_M1_Gly.tif'"
     ]
    }
   ],
   "execution_count": 1
  }
 ],
 "metadata": {
  "kernelspec": {
   "display_name": "Python 3 (ipykernel)",
   "language": "python",
   "name": "python3"
  },
  "language_info": {
   "codemirror_mode": {
    "name": "ipython",
    "version": 3
   },
   "file_extension": ".py",
   "mimetype": "text/x-python",
   "name": "python",
   "nbconvert_exporter": "python",
   "pygments_lexer": "ipython3",
   "version": "3.12.3"
  }
 },
 "nbformat": 4,
 "nbformat_minor": 5
}
