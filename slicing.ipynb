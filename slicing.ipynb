{
 "cells": [
  {
   "metadata": {
    "ExecuteTime": {
     "end_time": "2024-06-22T20:36:11.286610900Z",
     "start_time": "2024-06-22T20:36:11.192827600Z"
    }
   },
   "cell_type": "code",
   "source": [
    "import os\n",
    "import random\n",
    "from tifffile import imread, imwrite\n",
    "\n",
    "def split_tiff(tiff_path, train_dir, test_dir, indices, is_label=False):\n",
    "    # Read the TIFF file\n",
    "    tiff_data = imread(tiff_path)\n",
    "\n",
    "    # Check if the TIFF file contains multiple slices\n",
    "    if len(tiff_data.shape) != 3:\n",
    "        print(\"The TIFF file does not contain multiple slices.\")\n",
    "        return\n",
    "\n",
    "    # Create the output directories if they don't exist\n",
    "    os.makedirs(train_dir, exist_ok=True)\n",
    "    os.makedirs(test_dir, exist_ok=True)\n",
    "\n",
    "    # Initialize counters for train and test slices\n",
    "    train_counter = 0\n",
    "    test_counter = 0\n",
    "\n",
    "    # Save the slices into the appropriate directories\n",
    "    for i, slice_data in enumerate(tiff_data):\n",
    "        if i in indices['test']:\n",
    "            if is_label:\n",
    "                slice_filename = f\"image_{test_counter+1:03d}.tif\"  # No channel suffix for labels\n",
    "            else:\n",
    "                slice_filename = f\"image_{test_counter+1:03d}_0000.tif\"  # Channel suffix for images\n",
    "            slice_path = os.path.join(test_dir, slice_filename)\n",
    "            print(f\"Slice {i+1} saved as {slice_path} (Test)\")\n",
    "            test_counter += 1\n",
    "        else:\n",
    "            if is_label:\n",
    "                slice_filename = f\"image_{train_counter+1:03d}.tif\"  # No channel suffix for labels\n",
    "            else:\n",
    "                slice_filename = f\"image_{train_counter+1:03d}_0000.tif\"  # Channel suffix for images\n",
    "            slice_path = os.path.join(train_dir, slice_filename)\n",
    "            print(f\"Slice {i+1} saved as {slice_path} (Train)\")\n",
    "            train_counter += 1\n",
    "\n",
    "        imwrite(slice_path, slice_data)\n",
    "\n",
    "    print(\"Slicing complete.\")\n",
    "\n",
    "def determine_split_indices(total_slices, test_ratio=0.2):\n",
    "    indices = list(range(total_slices))\n",
    "    random.shuffle(indices)\n",
    "    split_point = int(total_slices * test_ratio)\n",
    "    return {'test': indices[:split_point], 'train': indices[split_point:]}\n",
    "\n",
    "# Specify the path to your image and label TIFF files\n",
    "image_tiff_path = r\"/alsxdata/ItamarAndDafna/Final_Project_rawdata/15_30_HIGH_5_LOW 3CM/M1/Interpolated 640 M1 stack.tif\"\n",
    "label_tiff_path = r\"/alsxdata/ItamarAndDafna/Final_Project_rawdata/15_30_HIGH_5_LOW 3CM/M1/initial mask substack.tif\"\n",
    "\n",
    "# Specify the output directories for training and testing\n",
    "image_train_dir = r\"/alsxdata/ItamarAndDafna/nnUNet/nnUNet_raw/Dataset024_1530640M1/imagesTr\"\n",
    "image_test_dir = r\"/alsxdata/ItamarAndDafna/nnUNet/nnUNet_raw/Dataset024_1530640M1/imagesTs\"\n",
    "label_train_dir = r\"/alsxdata/ItamarAndDafna/nnUNet/nnUNet_raw/Dataset024_1530640M1/labelsTr\"\n",
    "label_test_dir = r\"/alsxdata/ItamarAndDafna/nnUNet/nnUNet_raw/Dataset024_1530640M1/labelsTs\"  # Ground truth information for comparison later\n",
    "\n",
    "# Read the image TIFF file to determine the number of slices\n",
    "tiff_data = imread(image_tiff_path)\n",
    "total_slices = tiff_data.shape[0]\n",
    "\n",
    "# Determine the split indices\n",
    "indices = determine_split_indices(total_slices, test_ratio=0.2)\n",
    "\n",
    "# Call the function to split the image TIFF file into individual slices (with channel suffix)\n",
    "split_tiff(image_tiff_path, image_train_dir, image_test_dir, indices)\n",
    "\n",
    "# Call the function to split the label TIFF file into individual slices (without channel suffix)\n",
    "split_tiff(label_tiff_path, label_train_dir, label_test_dir, indices, is_label=True)"
   ],
   "id": "a401cba4b2d4093c",
   "outputs": [
    {
     "name": "stdout",
     "output_type": "stream",
     "text": [
      "Slice 1 saved as /alsxdata/ItamarAndDafna/nnUNet/nnUNet_raw/Dataset024_1530640M1/imagesTs/image_001_0000.tif (Test)\n",
      "Slice 2 saved as /alsxdata/ItamarAndDafna/nnUNet/nnUNet_raw/Dataset024_1530640M1/imagesTs/image_002_0000.tif (Test)\n",
      "Slice 3 saved as /alsxdata/ItamarAndDafna/nnUNet/nnUNet_raw/Dataset024_1530640M1/imagesTr/image_001_0000.tif (Train)\n",
      "Slice 4 saved as /alsxdata/ItamarAndDafna/nnUNet/nnUNet_raw/Dataset024_1530640M1/imagesTs/image_003_0000.tif (Test)\n",
      "Slice 5 saved as /alsxdata/ItamarAndDafna/nnUNet/nnUNet_raw/Dataset024_1530640M1/imagesTr/image_002_0000.tif (Train)\n",
      "Slice 6 saved as /alsxdata/ItamarAndDafna/nnUNet/nnUNet_raw/Dataset024_1530640M1/imagesTr/image_003_0000.tif (Train)\n",
      "Slice 7 saved as /alsxdata/ItamarAndDafna/nnUNet/nnUNet_raw/Dataset024_1530640M1/imagesTr/image_004_0000.tif (Train)\n",
      "Slice 8 saved as /alsxdata/ItamarAndDafna/nnUNet/nnUNet_raw/Dataset024_1530640M1/imagesTr/image_005_0000.tif (Train)\n",
      "Slice 9 saved as /alsxdata/ItamarAndDafna/nnUNet/nnUNet_raw/Dataset024_1530640M1/imagesTr/image_006_0000.tif (Train)\n",
      "Slice 10 saved as /alsxdata/ItamarAndDafna/nnUNet/nnUNet_raw/Dataset024_1530640M1/imagesTr/image_007_0000.tif (Train)\n",
      "Slice 11 saved as /alsxdata/ItamarAndDafna/nnUNet/nnUNet_raw/Dataset024_1530640M1/imagesTr/image_008_0000.tif (Train)\n",
      "Slice 12 saved as /alsxdata/ItamarAndDafna/nnUNet/nnUNet_raw/Dataset024_1530640M1/imagesTr/image_009_0000.tif (Train)\n",
      "Slice 13 saved as /alsxdata/ItamarAndDafna/nnUNet/nnUNet_raw/Dataset024_1530640M1/imagesTr/image_010_0000.tif (Train)\n",
      "Slice 14 saved as /alsxdata/ItamarAndDafna/nnUNet/nnUNet_raw/Dataset024_1530640M1/imagesTr/image_011_0000.tif (Train)\n",
      "Slice 15 saved as /alsxdata/ItamarAndDafna/nnUNet/nnUNet_raw/Dataset024_1530640M1/imagesTr/image_012_0000.tif (Train)\n",
      "Slice 16 saved as /alsxdata/ItamarAndDafna/nnUNet/nnUNet_raw/Dataset024_1530640M1/imagesTr/image_013_0000.tif (Train)\n",
      "Slice 17 saved as /alsxdata/ItamarAndDafna/nnUNet/nnUNet_raw/Dataset024_1530640M1/imagesTr/image_014_0000.tif (Train)\n",
      "Slice 18 saved as /alsxdata/ItamarAndDafna/nnUNet/nnUNet_raw/Dataset024_1530640M1/imagesTr/image_015_0000.tif (Train)\n",
      "Slice 19 saved as /alsxdata/ItamarAndDafna/nnUNet/nnUNet_raw/Dataset024_1530640M1/imagesTr/image_016_0000.tif (Train)\n",
      "Slice 20 saved as /alsxdata/ItamarAndDafna/nnUNet/nnUNet_raw/Dataset024_1530640M1/imagesTr/image_017_0000.tif (Train)\n",
      "Slice 21 saved as /alsxdata/ItamarAndDafna/nnUNet/nnUNet_raw/Dataset024_1530640M1/imagesTr/image_018_0000.tif (Train)\n",
      "Slice 22 saved as /alsxdata/ItamarAndDafna/nnUNet/nnUNet_raw/Dataset024_1530640M1/imagesTr/image_019_0000.tif (Train)\n",
      "Slice 23 saved as /alsxdata/ItamarAndDafna/nnUNet/nnUNet_raw/Dataset024_1530640M1/imagesTs/image_004_0000.tif (Test)\n",
      "Slice 24 saved as /alsxdata/ItamarAndDafna/nnUNet/nnUNet_raw/Dataset024_1530640M1/imagesTs/image_005_0000.tif (Test)\n",
      "Slice 25 saved as /alsxdata/ItamarAndDafna/nnUNet/nnUNet_raw/Dataset024_1530640M1/imagesTr/image_020_0000.tif (Train)\n",
      "Slice 26 saved as /alsxdata/ItamarAndDafna/nnUNet/nnUNet_raw/Dataset024_1530640M1/imagesTr/image_021_0000.tif (Train)\n",
      "Slice 27 saved as /alsxdata/ItamarAndDafna/nnUNet/nnUNet_raw/Dataset024_1530640M1/imagesTr/image_022_0000.tif (Train)\n",
      "Slice 28 saved as /alsxdata/ItamarAndDafna/nnUNet/nnUNet_raw/Dataset024_1530640M1/imagesTs/image_006_0000.tif (Test)\n",
      "Slice 29 saved as /alsxdata/ItamarAndDafna/nnUNet/nnUNet_raw/Dataset024_1530640M1/imagesTs/image_007_0000.tif (Test)\n",
      "Slice 30 saved as /alsxdata/ItamarAndDafna/nnUNet/nnUNet_raw/Dataset024_1530640M1/imagesTr/image_023_0000.tif (Train)\n",
      "Slice 31 saved as /alsxdata/ItamarAndDafna/nnUNet/nnUNet_raw/Dataset024_1530640M1/imagesTr/image_024_0000.tif (Train)\n",
      "Slice 32 saved as /alsxdata/ItamarAndDafna/nnUNet/nnUNet_raw/Dataset024_1530640M1/imagesTs/image_008_0000.tif (Test)\n",
      "Slice 33 saved as /alsxdata/ItamarAndDafna/nnUNet/nnUNet_raw/Dataset024_1530640M1/imagesTs/image_009_0000.tif (Test)\n",
      "Slice 34 saved as /alsxdata/ItamarAndDafna/nnUNet/nnUNet_raw/Dataset024_1530640M1/imagesTr/image_025_0000.tif (Train)\n",
      "Slice 35 saved as /alsxdata/ItamarAndDafna/nnUNet/nnUNet_raw/Dataset024_1530640M1/imagesTr/image_026_0000.tif (Train)\n",
      "Slice 36 saved as /alsxdata/ItamarAndDafna/nnUNet/nnUNet_raw/Dataset024_1530640M1/imagesTr/image_027_0000.tif (Train)\n",
      "Slice 37 saved as /alsxdata/ItamarAndDafna/nnUNet/nnUNet_raw/Dataset024_1530640M1/imagesTr/image_028_0000.tif (Train)\n",
      "Slice 38 saved as /alsxdata/ItamarAndDafna/nnUNet/nnUNet_raw/Dataset024_1530640M1/imagesTr/image_029_0000.tif (Train)\n",
      "Slice 39 saved as /alsxdata/ItamarAndDafna/nnUNet/nnUNet_raw/Dataset024_1530640M1/imagesTr/image_030_0000.tif (Train)\n",
      "Slice 40 saved as /alsxdata/ItamarAndDafna/nnUNet/nnUNet_raw/Dataset024_1530640M1/imagesTr/image_031_0000.tif (Train)\n",
      "Slice 41 saved as /alsxdata/ItamarAndDafna/nnUNet/nnUNet_raw/Dataset024_1530640M1/imagesTr/image_032_0000.tif (Train)\n",
      "Slice 42 saved as /alsxdata/ItamarAndDafna/nnUNet/nnUNet_raw/Dataset024_1530640M1/imagesTr/image_033_0000.tif (Train)\n",
      "Slice 43 saved as /alsxdata/ItamarAndDafna/nnUNet/nnUNet_raw/Dataset024_1530640M1/imagesTr/image_034_0000.tif (Train)\n",
      "Slice 44 saved as /alsxdata/ItamarAndDafna/nnUNet/nnUNet_raw/Dataset024_1530640M1/imagesTr/image_035_0000.tif (Train)\n",
      "Slice 45 saved as /alsxdata/ItamarAndDafna/nnUNet/nnUNet_raw/Dataset024_1530640M1/imagesTr/image_036_0000.tif (Train)\n",
      "Slice 46 saved as /alsxdata/ItamarAndDafna/nnUNet/nnUNet_raw/Dataset024_1530640M1/imagesTr/image_037_0000.tif (Train)\n",
      "Slice 47 saved as /alsxdata/ItamarAndDafna/nnUNet/nnUNet_raw/Dataset024_1530640M1/imagesTr/image_038_0000.tif (Train)\n",
      "Slice 48 saved as /alsxdata/ItamarAndDafna/nnUNet/nnUNet_raw/Dataset024_1530640M1/imagesTr/image_039_0000.tif (Train)\n",
      "Slice 49 saved as /alsxdata/ItamarAndDafna/nnUNet/nnUNet_raw/Dataset024_1530640M1/imagesTr/image_040_0000.tif (Train)\n",
      "Slice 50 saved as /alsxdata/ItamarAndDafna/nnUNet/nnUNet_raw/Dataset024_1530640M1/imagesTr/image_041_0000.tif (Train)\n",
      "Slice 51 saved as /alsxdata/ItamarAndDafna/nnUNet/nnUNet_raw/Dataset024_1530640M1/imagesTr/image_042_0000.tif (Train)\n",
      "Slice 52 saved as /alsxdata/ItamarAndDafna/nnUNet/nnUNet_raw/Dataset024_1530640M1/imagesTs/image_010_0000.tif (Test)\n",
      "Slicing complete.\n",
      "Slice 1 saved as /alsxdata/ItamarAndDafna/nnUNet/nnUNet_raw/Dataset024_1530640M1/labelsTs/image_001.tif (Test)\n"
     ]
    },
    {
     "ename": "PermissionError",
     "evalue": "[Errno 13] Permission denied: '/alsxdata/ItamarAndDafna/nnUNet/nnUNet_raw/Dataset024_1530640M1/labelsTs/image_001.tif'",
     "output_type": "error",
     "traceback": [
      "\u001B[0;31m---------------------------------------------------------------------------\u001B[0m",
      "\u001B[0;31mPermissionError\u001B[0m                           Traceback (most recent call last)",
      "\u001B[0;32m/tmp/ipykernel_24885/3672807789.py\u001B[0m in \u001B[0;36m?\u001B[0;34m()\u001B[0m\n\u001B[1;32m     68\u001B[0m \u001B[0;31m# Call the function to split the image TIFF file into individual slices (with channel suffix)\u001B[0m\u001B[0;34m\u001B[0m\u001B[0;34m\u001B[0m\u001B[0m\n\u001B[1;32m     69\u001B[0m \u001B[0msplit_tiff\u001B[0m\u001B[0;34m(\u001B[0m\u001B[0mimage_tiff_path\u001B[0m\u001B[0;34m,\u001B[0m \u001B[0mimage_train_dir\u001B[0m\u001B[0;34m,\u001B[0m \u001B[0mimage_test_dir\u001B[0m\u001B[0;34m,\u001B[0m \u001B[0mindices\u001B[0m\u001B[0;34m)\u001B[0m\u001B[0;34m\u001B[0m\u001B[0;34m\u001B[0m\u001B[0m\n\u001B[1;32m     70\u001B[0m \u001B[0;34m\u001B[0m\u001B[0m\n\u001B[1;32m     71\u001B[0m \u001B[0;31m# Call the function to split the label TIFF file into individual slices (without channel suffix)\u001B[0m\u001B[0;34m\u001B[0m\u001B[0;34m\u001B[0m\u001B[0m\n\u001B[0;32m---> 72\u001B[0;31m \u001B[0msplit_tiff\u001B[0m\u001B[0;34m(\u001B[0m\u001B[0mlabel_tiff_path\u001B[0m\u001B[0;34m,\u001B[0m \u001B[0mlabel_train_dir\u001B[0m\u001B[0;34m,\u001B[0m \u001B[0mlabel_test_dir\u001B[0m\u001B[0;34m,\u001B[0m \u001B[0mindices\u001B[0m\u001B[0;34m,\u001B[0m \u001B[0mis_label\u001B[0m\u001B[0;34m=\u001B[0m\u001B[0;32mTrue\u001B[0m\u001B[0;34m)\u001B[0m\u001B[0;34m\u001B[0m\u001B[0;34m\u001B[0m\u001B[0m\n\u001B[0m",
      "\u001B[0;32m/tmp/ipykernel_24885/3672807789.py\u001B[0m in \u001B[0;36m?\u001B[0;34m(tiff_path, train_dir, test_dir, indices, is_label)\u001B[0m\n\u001B[1;32m     37\u001B[0m             \u001B[0mslice_path\u001B[0m \u001B[0;34m=\u001B[0m \u001B[0mos\u001B[0m\u001B[0;34m.\u001B[0m\u001B[0mpath\u001B[0m\u001B[0;34m.\u001B[0m\u001B[0mjoin\u001B[0m\u001B[0;34m(\u001B[0m\u001B[0mtrain_dir\u001B[0m\u001B[0;34m,\u001B[0m \u001B[0mslice_filename\u001B[0m\u001B[0;34m)\u001B[0m\u001B[0;34m\u001B[0m\u001B[0;34m\u001B[0m\u001B[0m\n\u001B[1;32m     38\u001B[0m             \u001B[0mprint\u001B[0m\u001B[0;34m(\u001B[0m\u001B[0;34mf\"Slice {i+1} saved as {slice_path} (Train)\"\u001B[0m\u001B[0;34m)\u001B[0m\u001B[0;34m\u001B[0m\u001B[0;34m\u001B[0m\u001B[0m\n\u001B[1;32m     39\u001B[0m             \u001B[0mtrain_counter\u001B[0m \u001B[0;34m+=\u001B[0m \u001B[0;36m1\u001B[0m\u001B[0;34m\u001B[0m\u001B[0;34m\u001B[0m\u001B[0m\n\u001B[1;32m     40\u001B[0m \u001B[0;34m\u001B[0m\u001B[0m\n\u001B[0;32m---> 41\u001B[0;31m         \u001B[0mimwrite\u001B[0m\u001B[0;34m(\u001B[0m\u001B[0mslice_path\u001B[0m\u001B[0;34m,\u001B[0m \u001B[0mslice_data\u001B[0m\u001B[0;34m)\u001B[0m\u001B[0;34m\u001B[0m\u001B[0;34m\u001B[0m\u001B[0m\n\u001B[0m\u001B[1;32m     42\u001B[0m \u001B[0;34m\u001B[0m\u001B[0m\n\u001B[1;32m     43\u001B[0m     \u001B[0mprint\u001B[0m\u001B[0;34m(\u001B[0m\u001B[0;34m\"Slicing complete.\"\u001B[0m\u001B[0;34m)\u001B[0m\u001B[0;34m\u001B[0m\u001B[0;34m\u001B[0m\u001B[0m\n",
      "\u001B[0;32m~/.local/lib/python3.10/site-packages/tifffile/tifffile.py\u001B[0m in \u001B[0;36m?\u001B[0;34m(file, data, mode, bigtiff, byteorder, imagej, ome, shaped, append, shape, dtype, photometric, planarconfig, extrasamples, volumetric, tile, rowsperstrip, bitspersample, compression, compressionargs, predictor, subsampling, jpegtables, iccprofile, colormap, description, datetime, resolution, resolutionunit, subfiletype, software, metadata, extratags, contiguous, truncate, align, maxworkers, buffersize, returnoffset)\u001B[0m\n\u001B[1;32m   1420\u001B[0m             \u001B[0;32mand\u001B[0m \u001B[0;32mnot\u001B[0m \u001B[0mtruncate\u001B[0m\u001B[0;34m\u001B[0m\u001B[0;34m\u001B[0m\u001B[0m\n\u001B[1;32m   1421\u001B[0m             \u001B[0;32mand\u001B[0m \u001B[0mcompression\u001B[0m \u001B[0;32min\u001B[0m \u001B[0;34m{\u001B[0m\u001B[0;32mNone\u001B[0m\u001B[0;34m,\u001B[0m \u001B[0;36m0\u001B[0m\u001B[0;34m,\u001B[0m \u001B[0;36m1\u001B[0m\u001B[0;34m,\u001B[0m \u001B[0;34m'NONE'\u001B[0m\u001B[0;34m,\u001B[0m \u001B[0;34m'none'\u001B[0m\u001B[0;34m}\u001B[0m\u001B[0;34m\u001B[0m\u001B[0;34m\u001B[0m\u001B[0m\n\u001B[1;32m   1422\u001B[0m         )\n\u001B[1;32m   1423\u001B[0m \u001B[0;34m\u001B[0m\u001B[0m\n\u001B[0;32m-> 1424\u001B[0;31m     with TiffWriter(\n\u001B[0m\u001B[1;32m   1425\u001B[0m         \u001B[0mfile\u001B[0m\u001B[0;34m,\u001B[0m\u001B[0;34m\u001B[0m\u001B[0;34m\u001B[0m\u001B[0m\n\u001B[1;32m   1426\u001B[0m         \u001B[0mmode\u001B[0m\u001B[0;34m=\u001B[0m\u001B[0mmode\u001B[0m\u001B[0;34m,\u001B[0m\u001B[0;34m\u001B[0m\u001B[0;34m\u001B[0m\u001B[0m\n\u001B[1;32m   1427\u001B[0m         \u001B[0mbigtiff\u001B[0m\u001B[0;34m=\u001B[0m\u001B[0mbigtiff\u001B[0m\u001B[0;34m,\u001B[0m\u001B[0;34m\u001B[0m\u001B[0;34m\u001B[0m\u001B[0m\n",
      "\u001B[0;32m~/.local/lib/python3.10/site-packages/tifffile/tifffile.py\u001B[0m in \u001B[0;36m?\u001B[0;34m(self, file, mode, bigtiff, byteorder, append, imagej, ome, shaped)\u001B[0m\n\u001B[1;32m   1745\u001B[0m         \u001B[0mself\u001B[0m\u001B[0;34m.\u001B[0m\u001B[0m_ifdindex\u001B[0m \u001B[0;34m=\u001B[0m \u001B[0;36m0\u001B[0m\u001B[0;34m\u001B[0m\u001B[0;34m\u001B[0m\u001B[0m\n\u001B[1;32m   1746\u001B[0m         \u001B[0mself\u001B[0m\u001B[0;34m.\u001B[0m\u001B[0m_omexml\u001B[0m \u001B[0;34m=\u001B[0m \u001B[0;32mNone\u001B[0m\u001B[0;34m\u001B[0m\u001B[0;34m\u001B[0m\u001B[0m\n\u001B[1;32m   1747\u001B[0m         \u001B[0mself\u001B[0m\u001B[0;34m.\u001B[0m\u001B[0m_storedshape\u001B[0m \u001B[0;34m=\u001B[0m \u001B[0;32mNone\u001B[0m\u001B[0;34m\u001B[0m\u001B[0;34m\u001B[0m\u001B[0m\n\u001B[1;32m   1748\u001B[0m \u001B[0;34m\u001B[0m\u001B[0m\n\u001B[0;32m-> 1749\u001B[0;31m         \u001B[0mself\u001B[0m\u001B[0;34m.\u001B[0m\u001B[0m_fh\u001B[0m \u001B[0;34m=\u001B[0m \u001B[0mFileHandle\u001B[0m\u001B[0;34m(\u001B[0m\u001B[0mfile\u001B[0m\u001B[0;34m,\u001B[0m \u001B[0mmode\u001B[0m\u001B[0;34m=\u001B[0m\u001B[0mmode\u001B[0m\u001B[0;34m,\u001B[0m \u001B[0msize\u001B[0m\u001B[0;34m=\u001B[0m\u001B[0;36m0\u001B[0m\u001B[0;34m)\u001B[0m\u001B[0;34m\u001B[0m\u001B[0;34m\u001B[0m\u001B[0m\n\u001B[0m\u001B[1;32m   1750\u001B[0m         \u001B[0;32mif\u001B[0m \u001B[0mappend\u001B[0m\u001B[0;34m:\u001B[0m\u001B[0;34m\u001B[0m\u001B[0;34m\u001B[0m\u001B[0m\n\u001B[1;32m   1751\u001B[0m             \u001B[0mself\u001B[0m\u001B[0;34m.\u001B[0m\u001B[0m_fh\u001B[0m\u001B[0;34m.\u001B[0m\u001B[0mseek\u001B[0m\u001B[0;34m(\u001B[0m\u001B[0;36m0\u001B[0m\u001B[0;34m,\u001B[0m \u001B[0mos\u001B[0m\u001B[0;34m.\u001B[0m\u001B[0mSEEK_END\u001B[0m\u001B[0;34m)\u001B[0m\u001B[0;34m\u001B[0m\u001B[0;34m\u001B[0m\u001B[0m\n\u001B[1;32m   1752\u001B[0m         \u001B[0;32melse\u001B[0m\u001B[0;34m:\u001B[0m\u001B[0;34m\u001B[0m\u001B[0;34m\u001B[0m\u001B[0m\n",
      "\u001B[0;32m~/.local/lib/python3.10/site-packages/tifffile/tifffile.py\u001B[0m in \u001B[0;36m?\u001B[0;34m(self, file, mode, name, offset, size)\u001B[0m\n\u001B[1;32m  14551\u001B[0m         \u001B[0mself\u001B[0m\u001B[0;34m.\u001B[0m\u001B[0m_offset\u001B[0m \u001B[0;34m=\u001B[0m \u001B[0;34m-\u001B[0m\u001B[0;36m1\u001B[0m \u001B[0;32mif\u001B[0m \u001B[0moffset\u001B[0m \u001B[0;32mis\u001B[0m \u001B[0;32mNone\u001B[0m \u001B[0;32melse\u001B[0m \u001B[0moffset\u001B[0m\u001B[0;34m\u001B[0m\u001B[0;34m\u001B[0m\u001B[0m\n\u001B[1;32m  14552\u001B[0m         \u001B[0mself\u001B[0m\u001B[0;34m.\u001B[0m\u001B[0m_size\u001B[0m \u001B[0;34m=\u001B[0m \u001B[0;34m-\u001B[0m\u001B[0;36m1\u001B[0m \u001B[0;32mif\u001B[0m \u001B[0msize\u001B[0m \u001B[0;32mis\u001B[0m \u001B[0;32mNone\u001B[0m \u001B[0;32melse\u001B[0m \u001B[0msize\u001B[0m\u001B[0;34m\u001B[0m\u001B[0;34m\u001B[0m\u001B[0m\n\u001B[1;32m  14553\u001B[0m         \u001B[0mself\u001B[0m\u001B[0;34m.\u001B[0m\u001B[0m_close\u001B[0m \u001B[0;34m=\u001B[0m \u001B[0;32mTrue\u001B[0m\u001B[0;34m\u001B[0m\u001B[0;34m\u001B[0m\u001B[0m\n\u001B[1;32m  14554\u001B[0m         \u001B[0mself\u001B[0m\u001B[0;34m.\u001B[0m\u001B[0m_lock\u001B[0m \u001B[0;34m=\u001B[0m \u001B[0mNullContext\u001B[0m\u001B[0;34m(\u001B[0m\u001B[0;34m)\u001B[0m\u001B[0;34m\u001B[0m\u001B[0;34m\u001B[0m\u001B[0m\n\u001B[0;32m> 14555\u001B[0;31m         \u001B[0mself\u001B[0m\u001B[0;34m.\u001B[0m\u001B[0mopen\u001B[0m\u001B[0;34m(\u001B[0m\u001B[0;34m)\u001B[0m\u001B[0;34m\u001B[0m\u001B[0;34m\u001B[0m\u001B[0m\n\u001B[0m\u001B[1;32m  14556\u001B[0m         \u001B[0;32massert\u001B[0m \u001B[0mself\u001B[0m\u001B[0;34m.\u001B[0m\u001B[0m_fh\u001B[0m \u001B[0;32mis\u001B[0m \u001B[0;32mnot\u001B[0m \u001B[0;32mNone\u001B[0m\u001B[0;34m\u001B[0m\u001B[0;34m\u001B[0m\u001B[0m\n",
      "\u001B[0;32m~/.local/lib/python3.10/site-packages/tifffile/tifffile.py\u001B[0m in \u001B[0;36m?\u001B[0;34m(self)\u001B[0m\n\u001B[1;32m  14570\u001B[0m             \u001B[0;32mif\u001B[0m \u001B[0mself\u001B[0m\u001B[0;34m.\u001B[0m\u001B[0m_mode\u001B[0m \u001B[0;32mnot\u001B[0m \u001B[0;32min\u001B[0m \u001B[0;34m{\u001B[0m\u001B[0;34m'rb'\u001B[0m\u001B[0;34m,\u001B[0m \u001B[0;34m'r+b'\u001B[0m\u001B[0;34m,\u001B[0m \u001B[0;34m'wb'\u001B[0m\u001B[0;34m,\u001B[0m \u001B[0;34m'xb'\u001B[0m\u001B[0;34m}\u001B[0m\u001B[0;34m:\u001B[0m\u001B[0;34m\u001B[0m\u001B[0;34m\u001B[0m\u001B[0m\n\u001B[1;32m  14571\u001B[0m                 \u001B[0;32mraise\u001B[0m \u001B[0mValueError\u001B[0m\u001B[0;34m(\u001B[0m\u001B[0;34mf'invalid mode {self._mode}'\u001B[0m\u001B[0;34m)\u001B[0m\u001B[0;34m\u001B[0m\u001B[0;34m\u001B[0m\u001B[0m\n\u001B[1;32m  14572\u001B[0m             \u001B[0mself\u001B[0m\u001B[0;34m.\u001B[0m\u001B[0m_file\u001B[0m \u001B[0;34m=\u001B[0m \u001B[0mos\u001B[0m\u001B[0;34m.\u001B[0m\u001B[0mpath\u001B[0m\u001B[0;34m.\u001B[0m\u001B[0mrealpath\u001B[0m\u001B[0;34m(\u001B[0m\u001B[0mself\u001B[0m\u001B[0;34m.\u001B[0m\u001B[0m_file\u001B[0m\u001B[0;34m)\u001B[0m\u001B[0;34m\u001B[0m\u001B[0;34m\u001B[0m\u001B[0m\n\u001B[1;32m  14573\u001B[0m             \u001B[0mself\u001B[0m\u001B[0;34m.\u001B[0m\u001B[0m_dir\u001B[0m\u001B[0;34m,\u001B[0m \u001B[0mself\u001B[0m\u001B[0;34m.\u001B[0m\u001B[0m_name\u001B[0m \u001B[0;34m=\u001B[0m \u001B[0mos\u001B[0m\u001B[0;34m.\u001B[0m\u001B[0mpath\u001B[0m\u001B[0;34m.\u001B[0m\u001B[0msplit\u001B[0m\u001B[0;34m(\u001B[0m\u001B[0mself\u001B[0m\u001B[0;34m.\u001B[0m\u001B[0m_file\u001B[0m\u001B[0;34m)\u001B[0m\u001B[0;34m\u001B[0m\u001B[0;34m\u001B[0m\u001B[0m\n\u001B[0;32m> 14574\u001B[0;31m             self._fh = open(\n\u001B[0m\u001B[1;32m  14575\u001B[0m                 \u001B[0mself\u001B[0m\u001B[0;34m.\u001B[0m\u001B[0m_file\u001B[0m\u001B[0;34m,\u001B[0m \u001B[0mself\u001B[0m\u001B[0;34m.\u001B[0m\u001B[0m_mode\u001B[0m\u001B[0;34m,\u001B[0m \u001B[0mencoding\u001B[0m\u001B[0;34m=\u001B[0m\u001B[0;32mNone\u001B[0m\u001B[0;34m\u001B[0m\u001B[0;34m\u001B[0m\u001B[0m\n\u001B[1;32m  14576\u001B[0m             )  # type: ignore\n\u001B[1;32m  14577\u001B[0m             \u001B[0mself\u001B[0m\u001B[0;34m.\u001B[0m\u001B[0m_close\u001B[0m \u001B[0;34m=\u001B[0m \u001B[0;32mTrue\u001B[0m\u001B[0;34m\u001B[0m\u001B[0;34m\u001B[0m\u001B[0m\n",
      "\u001B[0;31mPermissionError\u001B[0m: [Errno 13] Permission denied: '/alsxdata/ItamarAndDafna/nnUNet/nnUNet_raw/Dataset024_1530640M1/labelsTs/image_001.tif'"
     ]
    }
   ],
   "execution_count": 4
  },
  {
   "metadata": {
    "ExecuteTime": {
     "end_time": "2024-06-19T10:05:33.352304Z",
     "start_time": "2024-06-19T10:05:33.347856Z"
    }
   },
   "cell_type": "code",
   "source": "",
   "id": "fc232876902c9667",
   "outputs": [
    {
     "name": "stdout",
     "output_type": "stream",
     "text": [
      "hi\n"
     ]
    }
   ],
   "execution_count": 1
  },
  {
   "metadata": {},
   "cell_type": "code",
   "outputs": [],
   "execution_count": null,
   "source": "",
   "id": "278b4e3bac016513"
  }
 ],
 "metadata": {
  "kernelspec": {
   "display_name": "Python 3 (ipykernel)",
   "language": "python",
   "name": "python3"
  },
  "language_info": {
   "codemirror_mode": {
    "name": "ipython",
    "version": 3
   },
   "file_extension": ".py",
   "mimetype": "text/x-python",
   "name": "python",
   "nbconvert_exporter": "python",
   "pygments_lexer": "ipython3",
   "version": "3.12.3"
  }
 },
 "nbformat": 4,
 "nbformat_minor": 5
}
