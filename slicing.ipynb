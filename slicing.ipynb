{
 "cells": [
  {
   "metadata": {
    "jupyter": {
     "is_executing": true
    }
   },
   "cell_type": "code",
   "source": [
    "import os\n",
    "import random\n",
    "from tifffile import imread, imwrite\n",
    "\n",
    "def split_tiff(tiff_path, train_dir, test_dir, indices, is_label=False):\n",
    "    # Read the TIFF file\n",
    "    tiff_data = imread(tiff_path)\n",
    "\n",
    "    # Check if the TIFF file contains multiple slices\n",
    "    if len(tiff_data.shape) != 3:\n",
    "        print(\"The TIFF file does not contain multiple slices.\")\n",
    "        return\n",
    "\n",
    "    # Create the output directories if they don't exist\n",
    "    os.makedirs(train_dir, exist_ok=True)\n",
    "    os.makedirs(test_dir, exist_ok=True)\n",
    "\n",
    "    # Initialize counters for train and test slices\n",
    "    train_counter = 0\n",
    "    test_counter = 0\n",
    "\n",
    "    # Save the slices into the appropriate directories\n",
    "    for i, slice_data in enumerate(tiff_data):\n",
    "        if i in indices['test']:\n",
    "            if is_label:\n",
    "                slice_filename = f\"image_{test_counter+1:03d}.tif\"  # No channel suffix for labels\n",
    "            else:\n",
    "                slice_filename = f\"image_{test_counter+1:03d}_0000.tif\"  # Channel suffix for images\n",
    "            slice_path = os.path.join(test_dir, slice_filename)\n",
    "            print(f\"Slice {i+1} saved as {slice_path} (Test)\")\n",
    "            test_counter += 1\n",
    "        else:\n",
    "            if is_label:\n",
    "                slice_filename = f\"image_{train_counter+1:03d}.tif\"  # No channel suffix for labels\n",
    "            else:\n",
    "                slice_filename = f\"image_{train_counter+1:03d}_0000.tif\"  # Channel suffix for images\n",
    "            slice_path = os.path.join(train_dir, slice_filename)\n",
    "            print(f\"Slice {i+1} saved as {slice_path} (Train)\")\n",
    "            train_counter += 1\n",
    "\n",
    "        imwrite(slice_path, slice_data)\n",
    "\n",
    "    print(\"Slicing complete.\")\n",
    "\n",
    "def determine_split_indices(total_slices, test_ratio=0.2):\n",
    "    indices = list(range(total_slices))\n",
    "    random.shuffle(indices)\n",
    "    split_point = int(total_slices * test_ratio)\n",
    "    return {'test': indices[:split_point], 'train': indices[split_point:]}\n",
    "\n",
    "# Specify the path to your image and label TIFF files\n",
    "image_tiff_path = r\"/alsxdata/ItamarAndDafna/Final_Project_rawdata/15_30_HIGH_5_LOW 3CM/M1/Interpolated 640 M1 stack.tif\"\n",
    "label_tiff_path = r\"/alsxdata/ItamarAndDafna/Final_Project_rawdata/15_30_HIGH_5_LOW 3CM/M1/initial mask substack.tif\"\n",
    "\n",
    "# Specify the output directories for training and testing\n",
    "image_train_dir = r\"/alsxdata/ItamarAndDafna/nnUNet/nnUNet_raw/Dataset024_1530640M1/imagesTr\"\n",
    "image_test_dir = r\"/alsxdata/ItamarAndDafna/nnUNet/nnUNet_raw/Dataset024_1530640M1/imagesTs\"\n",
    "label_train_dir = r\"/alsxdata/ItamarAndDafna/nnUNet/nnUNet_raw/Dataset024_1530640M1/labelsTr\"\n",
    "label_test_dir = r\"/alsxdata/ItamarAndDafna/nnUNet/nnUNet_raw/Dataset024_1530640M1/labelsTs\"  # Ground truth information for comparison later\n",
    "\n",
    "# Read the image TIFF file to determine the number of slices\n",
    "tiff_data = imread(image_tiff_path)\n",
    "total_slices = tiff_data.shape[0]\n",
    "\n",
    "# Determine the split indices\n",
    "indices = determine_split_indices(total_slices, test_ratio=0.2)\n",
    "\n",
    "# Call the function to split the image TIFF file into individual slices (with channel suffix)\n",
    "split_tiff(image_tiff_path, image_train_dir, image_test_dir, indices)\n",
    "\n",
    "# Call the function to split the label TIFF file into individual slices (without channel suffix)\n",
    "split_tiff(label_tiff_path, label_train_dir, label_test_dir, indices, is_label=True)"
   ],
   "id": "a401cba4b2d4093c",
   "outputs": [],
   "execution_count": null
  },
  {
   "metadata": {},
   "cell_type": "code",
   "outputs": [],
   "execution_count": null,
   "source": "",
   "id": "fc232876902c9667"
  }
 ],
 "metadata": {
  "kernelspec": {
   "display_name": "Python 3 (ipykernel)",
   "language": "python",
   "name": "python3"
  },
  "language_info": {
   "codemirror_mode": {
    "name": "ipython",
    "version": 3
   },
   "file_extension": ".py",
   "mimetype": "text/x-python",
   "name": "python",
   "nbconvert_exporter": "python",
   "pygments_lexer": "ipython3",
   "version": "3.12.3"
  }
 },
 "nbformat": 4,
 "nbformat_minor": 5
}
