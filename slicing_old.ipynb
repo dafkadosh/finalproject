{
 "cells": [
  {
   "cell_type": "markdown",
   "id": "1caf3627-75df-4a9a-8f47-cc5b48ccef22",
   "metadata": {},
   "source": [
    "# slicing the masks"
   ]
  },
  {
   "cell_type": "code",
   "id": "fb40709a-3cdc-4db2-bf00-444721ac2f69",
   "metadata": {
    "ExecuteTime": {
     "end_time": "2024-06-04T19:48:07.196230Z",
     "start_time": "2024-06-04T19:48:07.074470Z"
    }
   },
   "source": [
    "import os\n",
    "from tifffile import imread, imwrite"
   ],
   "outputs": [],
   "execution_count": 2
  },
  {
   "cell_type": "code",
   "id": "58bc9f58215fefec",
   "metadata": {
    "ExecuteTime": {
     "end_time": "2024-06-04T19:48:19.293838Z",
     "start_time": "2024-06-04T19:48:19.239587Z"
    }
   },
   "source": [
    "def split_tiff(tiff_path, output_dir=None):\n",
    "    # Read the TIFF file\n",
    "    tiff_data = imread(tiff_path)\n",
    "\n",
    "    # Check if the TIFF file contains multiple slices\n",
    "    if len(tiff_data.shape) != 3:\n",
    "        print(\"The TIFF file does not contain multiple slices.\")\n",
    "        return\n",
    "\n",
    "    # Extract the file name without extension\n",
    "    file_name = os.path.splitext(os.path.basename(tiff_path))[0]\n",
    "\n",
    "    # Create the output directory if not provided\n",
    "    if output_dir is None:\n",
    "        output_dir = file_name + \"_slices\"\n",
    "    os.makedirs(output_dir, exist_ok=True)\n",
    "\n",
    "    # Save each slice as a separate TIFF file\n",
    "    for i, slice_data in enumerate(tiff_data):\n",
    "        slice_filename = f\"{i+1:02d}.tif\"  # e.g., 01.tif\n",
    "        slice_path = os.path.join(output_dir, slice_filename)\n",
    "        imwrite(slice_path, slice_data)\n",
    "        print(f\"Slice {i+1} saved as {slice_path}\")\n",
    "\n",
    "    print(\"Slicing complete.\")\n",
    "\n",
    "# Specify the path to your mask TIFF file\n",
    "tiff_file_path = r\"C:\\Users\\dafka\\FinalProject\\Final Project data\\15_30_HIGH_5_LOW 3CM\\M1\\initial mask substack.tif\"\n",
    "\n",
    "#Specify the output directory path\n",
    "output_directory = r\"C:\\Users\\dafka\\FinalProject\\nnUNet\\nnUNet_raw\\Dataset001_1530640M1\\labelsTr\"\n",
    "\n",
    "# Call the function to split the mask TIFF file into individual slices\n",
    "split_tiff(tiff_file_path, output_directory)"
   ],
   "outputs": [
    {
     "ename": "FileNotFoundError",
     "evalue": "[Errno 2] No such file or directory: '/tmp/pycharm_project_241/C:\\\\Users\\\\dafka\\\\FinalProject\\\\Final Project data\\\\15_30_HIGH_5_LOW 3CM\\\\M1\\\\initial mask substack.tif'",
     "output_type": "error",
     "traceback": [
      "\u001B[0;31m---------------------------------------------------------------------------\u001B[0m",
      "\u001B[0;31mFileNotFoundError\u001B[0m                         Traceback (most recent call last)",
      "\u001B[0;32m/tmp/ipykernel_210237/1806162998.py\u001B[0m in \u001B[0;36m?\u001B[0;34m()\u001B[0m\n\u001B[1;32m     30\u001B[0m \u001B[0;31m#Specify the output directory path\u001B[0m\u001B[0;34m\u001B[0m\u001B[0;34m\u001B[0m\u001B[0m\n\u001B[1;32m     31\u001B[0m \u001B[0moutput_directory\u001B[0m \u001B[0;34m=\u001B[0m \u001B[0;34mr\"C:\\Users\\dafka\\FinalProject\\nnUNet\\nnUNet_raw\\Dataset001_1530640M1\\labelsTr\"\u001B[0m\u001B[0;34m\u001B[0m\u001B[0;34m\u001B[0m\u001B[0m\n\u001B[1;32m     32\u001B[0m \u001B[0;34m\u001B[0m\u001B[0m\n\u001B[1;32m     33\u001B[0m \u001B[0;31m# Call the function to split the mask TIFF file into individual slices\u001B[0m\u001B[0;34m\u001B[0m\u001B[0;34m\u001B[0m\u001B[0m\n\u001B[0;32m---> 34\u001B[0;31m \u001B[0msplit_tiff\u001B[0m\u001B[0;34m(\u001B[0m\u001B[0mtiff_file_path\u001B[0m\u001B[0;34m,\u001B[0m \u001B[0moutput_directory\u001B[0m\u001B[0;34m)\u001B[0m\u001B[0;34m\u001B[0m\u001B[0;34m\u001B[0m\u001B[0m\n\u001B[0m",
      "\u001B[0;32m/tmp/ipykernel_210237/1806162998.py\u001B[0m in \u001B[0;36m?\u001B[0;34m(tiff_path, output_dir)\u001B[0m\n\u001B[1;32m      1\u001B[0m \u001B[0;32mdef\u001B[0m \u001B[0msplit_tiff\u001B[0m\u001B[0;34m(\u001B[0m\u001B[0mtiff_path\u001B[0m\u001B[0;34m,\u001B[0m \u001B[0moutput_dir\u001B[0m\u001B[0;34m=\u001B[0m\u001B[0;32mNone\u001B[0m\u001B[0;34m)\u001B[0m\u001B[0;34m:\u001B[0m\u001B[0;34m\u001B[0m\u001B[0;34m\u001B[0m\u001B[0m\n\u001B[1;32m      2\u001B[0m     \u001B[0;31m# Read the TIFF file\u001B[0m\u001B[0;34m\u001B[0m\u001B[0;34m\u001B[0m\u001B[0m\n\u001B[0;32m----> 3\u001B[0;31m     \u001B[0mtiff_data\u001B[0m \u001B[0;34m=\u001B[0m \u001B[0mimread\u001B[0m\u001B[0;34m(\u001B[0m\u001B[0mtiff_path\u001B[0m\u001B[0;34m)\u001B[0m\u001B[0;34m\u001B[0m\u001B[0;34m\u001B[0m\u001B[0m\n\u001B[0m\u001B[1;32m      4\u001B[0m \u001B[0;34m\u001B[0m\u001B[0m\n\u001B[1;32m      5\u001B[0m     \u001B[0;31m# Check if the TIFF file contains multiple slices\u001B[0m\u001B[0;34m\u001B[0m\u001B[0;34m\u001B[0m\u001B[0m\n\u001B[1;32m      6\u001B[0m     \u001B[0;32mif\u001B[0m \u001B[0mlen\u001B[0m\u001B[0;34m(\u001B[0m\u001B[0mtiff_data\u001B[0m\u001B[0;34m.\u001B[0m\u001B[0mshape\u001B[0m\u001B[0;34m)\u001B[0m \u001B[0;34m!=\u001B[0m \u001B[0;36m3\u001B[0m\u001B[0;34m:\u001B[0m\u001B[0;34m\u001B[0m\u001B[0;34m\u001B[0m\u001B[0m\n",
      "\u001B[0;32m~/.virtualenvs/Final Project Code/lib/python3.11/site-packages/tifffile/tifffile.py\u001B[0m in \u001B[0;36m?\u001B[0;34m(***failed resolving arguments***)\u001B[0m\n\u001B[1;32m   1226\u001B[0m \u001B[0;34m\u001B[0m\u001B[0m\n\u001B[1;32m   1227\u001B[0m         if isinstance(files, str) or not isinstance(\n\u001B[1;32m   1228\u001B[0m             \u001B[0mfiles\u001B[0m\u001B[0;34m,\u001B[0m \u001B[0mcollections\u001B[0m\u001B[0;34m.\u001B[0m\u001B[0mabc\u001B[0m\u001B[0;34m.\u001B[0m\u001B[0mSequence\u001B[0m\u001B[0;34m\u001B[0m\u001B[0;34m\u001B[0m\u001B[0m\n\u001B[1;32m   1229\u001B[0m         ):\n\u001B[0;32m-> 1230\u001B[0;31m             with TiffFile(\n\u001B[0m\u001B[1;32m   1231\u001B[0m                 \u001B[0mfiles\u001B[0m\u001B[0;34m,\u001B[0m\u001B[0;34m\u001B[0m\u001B[0;34m\u001B[0m\u001B[0m\n\u001B[1;32m   1232\u001B[0m                 \u001B[0mmode\u001B[0m\u001B[0;34m=\u001B[0m\u001B[0mmode\u001B[0m\u001B[0;34m,\u001B[0m\u001B[0;34m\u001B[0m\u001B[0;34m\u001B[0m\u001B[0m\n\u001B[1;32m   1233\u001B[0m                 \u001B[0mname\u001B[0m\u001B[0;34m=\u001B[0m\u001B[0mname\u001B[0m\u001B[0;34m,\u001B[0m\u001B[0;34m\u001B[0m\u001B[0;34m\u001B[0m\u001B[0m\n",
      "\u001B[0;32m~/.virtualenvs/Final Project Code/lib/python3.11/site-packages/tifffile/tifffile.py\u001B[0m in \u001B[0;36m?\u001B[0;34m(self, file, mode, name, offset, size, omexml, _multifile, _useframes, _parent, **is_flags)\u001B[0m\n\u001B[1;32m   4236\u001B[0m                 \u001B[0;32mraise\u001B[0m \u001B[0mValueError\u001B[0m\u001B[0;34m(\u001B[0m\u001B[0;34m'invalid OME-XML'\u001B[0m\u001B[0;34m)\u001B[0m\u001B[0;34m\u001B[0m\u001B[0;34m\u001B[0m\u001B[0m\n\u001B[1;32m   4237\u001B[0m             \u001B[0mself\u001B[0m\u001B[0;34m.\u001B[0m\u001B[0m_omexml\u001B[0m \u001B[0;34m=\u001B[0m \u001B[0momexml\u001B[0m\u001B[0;34m\u001B[0m\u001B[0;34m\u001B[0m\u001B[0m\n\u001B[1;32m   4238\u001B[0m             \u001B[0mself\u001B[0m\u001B[0;34m.\u001B[0m\u001B[0mis_ome\u001B[0m \u001B[0;34m=\u001B[0m \u001B[0;32mTrue\u001B[0m\u001B[0;34m\u001B[0m\u001B[0;34m\u001B[0m\u001B[0m\n\u001B[1;32m   4239\u001B[0m \u001B[0;34m\u001B[0m\u001B[0m\n\u001B[0;32m-> 4240\u001B[0;31m         \u001B[0mfh\u001B[0m \u001B[0;34m=\u001B[0m \u001B[0mFileHandle\u001B[0m\u001B[0;34m(\u001B[0m\u001B[0mfile\u001B[0m\u001B[0;34m,\u001B[0m \u001B[0mmode\u001B[0m\u001B[0;34m=\u001B[0m\u001B[0mmode\u001B[0m\u001B[0;34m,\u001B[0m \u001B[0mname\u001B[0m\u001B[0;34m=\u001B[0m\u001B[0mname\u001B[0m\u001B[0;34m,\u001B[0m \u001B[0moffset\u001B[0m\u001B[0;34m=\u001B[0m\u001B[0moffset\u001B[0m\u001B[0;34m,\u001B[0m \u001B[0msize\u001B[0m\u001B[0;34m=\u001B[0m\u001B[0msize\u001B[0m\u001B[0;34m)\u001B[0m\u001B[0;34m\u001B[0m\u001B[0;34m\u001B[0m\u001B[0m\n\u001B[0m\u001B[1;32m   4241\u001B[0m         \u001B[0mself\u001B[0m\u001B[0;34m.\u001B[0m\u001B[0m_fh\u001B[0m \u001B[0;34m=\u001B[0m \u001B[0mfh\u001B[0m\u001B[0;34m\u001B[0m\u001B[0;34m\u001B[0m\u001B[0m\n\u001B[1;32m   4242\u001B[0m         \u001B[0mself\u001B[0m\u001B[0;34m.\u001B[0m\u001B[0m_multifile\u001B[0m \u001B[0;34m=\u001B[0m \u001B[0;32mTrue\u001B[0m \u001B[0;32mif\u001B[0m \u001B[0m_multifile\u001B[0m \u001B[0;32mis\u001B[0m \u001B[0;32mNone\u001B[0m \u001B[0;32melse\u001B[0m \u001B[0mbool\u001B[0m\u001B[0;34m(\u001B[0m\u001B[0m_multifile\u001B[0m\u001B[0;34m)\u001B[0m\u001B[0;34m\u001B[0m\u001B[0;34m\u001B[0m\u001B[0m\n\u001B[1;32m   4243\u001B[0m         \u001B[0mself\u001B[0m\u001B[0;34m.\u001B[0m\u001B[0m_files\u001B[0m \u001B[0;34m=\u001B[0m \u001B[0;34m{\u001B[0m\u001B[0mfh\u001B[0m\u001B[0;34m.\u001B[0m\u001B[0mname\u001B[0m\u001B[0;34m:\u001B[0m \u001B[0mself\u001B[0m\u001B[0;34m}\u001B[0m\u001B[0;34m\u001B[0m\u001B[0;34m\u001B[0m\u001B[0m\n",
      "\u001B[0;32m~/.virtualenvs/Final Project Code/lib/python3.11/site-packages/tifffile/tifffile.py\u001B[0m in \u001B[0;36m?\u001B[0;34m(self, file, mode, name, offset, size)\u001B[0m\n\u001B[1;32m  14551\u001B[0m         \u001B[0mself\u001B[0m\u001B[0;34m.\u001B[0m\u001B[0m_offset\u001B[0m \u001B[0;34m=\u001B[0m \u001B[0;34m-\u001B[0m\u001B[0;36m1\u001B[0m \u001B[0;32mif\u001B[0m \u001B[0moffset\u001B[0m \u001B[0;32mis\u001B[0m \u001B[0;32mNone\u001B[0m \u001B[0;32melse\u001B[0m \u001B[0moffset\u001B[0m\u001B[0;34m\u001B[0m\u001B[0;34m\u001B[0m\u001B[0m\n\u001B[1;32m  14552\u001B[0m         \u001B[0mself\u001B[0m\u001B[0;34m.\u001B[0m\u001B[0m_size\u001B[0m \u001B[0;34m=\u001B[0m \u001B[0;34m-\u001B[0m\u001B[0;36m1\u001B[0m \u001B[0;32mif\u001B[0m \u001B[0msize\u001B[0m \u001B[0;32mis\u001B[0m \u001B[0;32mNone\u001B[0m \u001B[0;32melse\u001B[0m \u001B[0msize\u001B[0m\u001B[0;34m\u001B[0m\u001B[0;34m\u001B[0m\u001B[0m\n\u001B[1;32m  14553\u001B[0m         \u001B[0mself\u001B[0m\u001B[0;34m.\u001B[0m\u001B[0m_close\u001B[0m \u001B[0;34m=\u001B[0m \u001B[0;32mTrue\u001B[0m\u001B[0;34m\u001B[0m\u001B[0;34m\u001B[0m\u001B[0m\n\u001B[1;32m  14554\u001B[0m         \u001B[0mself\u001B[0m\u001B[0;34m.\u001B[0m\u001B[0m_lock\u001B[0m \u001B[0;34m=\u001B[0m \u001B[0mNullContext\u001B[0m\u001B[0;34m(\u001B[0m\u001B[0;34m)\u001B[0m\u001B[0;34m\u001B[0m\u001B[0;34m\u001B[0m\u001B[0m\n\u001B[0;32m> 14555\u001B[0;31m         \u001B[0mself\u001B[0m\u001B[0;34m.\u001B[0m\u001B[0mopen\u001B[0m\u001B[0;34m(\u001B[0m\u001B[0;34m)\u001B[0m\u001B[0;34m\u001B[0m\u001B[0;34m\u001B[0m\u001B[0m\n\u001B[0m\u001B[1;32m  14556\u001B[0m         \u001B[0;32massert\u001B[0m \u001B[0mself\u001B[0m\u001B[0;34m.\u001B[0m\u001B[0m_fh\u001B[0m \u001B[0;32mis\u001B[0m \u001B[0;32mnot\u001B[0m \u001B[0;32mNone\u001B[0m\u001B[0;34m\u001B[0m\u001B[0;34m\u001B[0m\u001B[0m\n",
      "\u001B[0;32m~/.virtualenvs/Final Project Code/lib/python3.11/site-packages/tifffile/tifffile.py\u001B[0m in \u001B[0;36m?\u001B[0;34m(self)\u001B[0m\n\u001B[1;32m  14570\u001B[0m             \u001B[0;32mif\u001B[0m \u001B[0mself\u001B[0m\u001B[0;34m.\u001B[0m\u001B[0m_mode\u001B[0m \u001B[0;32mnot\u001B[0m \u001B[0;32min\u001B[0m \u001B[0;34m{\u001B[0m\u001B[0;34m'rb'\u001B[0m\u001B[0;34m,\u001B[0m \u001B[0;34m'r+b'\u001B[0m\u001B[0;34m,\u001B[0m \u001B[0;34m'wb'\u001B[0m\u001B[0;34m,\u001B[0m \u001B[0;34m'xb'\u001B[0m\u001B[0;34m}\u001B[0m\u001B[0;34m:\u001B[0m\u001B[0;34m\u001B[0m\u001B[0;34m\u001B[0m\u001B[0m\n\u001B[1;32m  14571\u001B[0m                 \u001B[0;32mraise\u001B[0m \u001B[0mValueError\u001B[0m\u001B[0;34m(\u001B[0m\u001B[0;34mf'invalid mode {self._mode}'\u001B[0m\u001B[0;34m)\u001B[0m\u001B[0;34m\u001B[0m\u001B[0;34m\u001B[0m\u001B[0m\n\u001B[1;32m  14572\u001B[0m             \u001B[0mself\u001B[0m\u001B[0;34m.\u001B[0m\u001B[0m_file\u001B[0m \u001B[0;34m=\u001B[0m \u001B[0mos\u001B[0m\u001B[0;34m.\u001B[0m\u001B[0mpath\u001B[0m\u001B[0;34m.\u001B[0m\u001B[0mrealpath\u001B[0m\u001B[0;34m(\u001B[0m\u001B[0mself\u001B[0m\u001B[0;34m.\u001B[0m\u001B[0m_file\u001B[0m\u001B[0;34m)\u001B[0m\u001B[0;34m\u001B[0m\u001B[0;34m\u001B[0m\u001B[0m\n\u001B[1;32m  14573\u001B[0m             \u001B[0mself\u001B[0m\u001B[0;34m.\u001B[0m\u001B[0m_dir\u001B[0m\u001B[0;34m,\u001B[0m \u001B[0mself\u001B[0m\u001B[0;34m.\u001B[0m\u001B[0m_name\u001B[0m \u001B[0;34m=\u001B[0m \u001B[0mos\u001B[0m\u001B[0;34m.\u001B[0m\u001B[0mpath\u001B[0m\u001B[0;34m.\u001B[0m\u001B[0msplit\u001B[0m\u001B[0;34m(\u001B[0m\u001B[0mself\u001B[0m\u001B[0;34m.\u001B[0m\u001B[0m_file\u001B[0m\u001B[0;34m)\u001B[0m\u001B[0;34m\u001B[0m\u001B[0;34m\u001B[0m\u001B[0m\n\u001B[0;32m> 14574\u001B[0;31m             self._fh = open(\n\u001B[0m\u001B[1;32m  14575\u001B[0m                 \u001B[0mself\u001B[0m\u001B[0;34m.\u001B[0m\u001B[0m_file\u001B[0m\u001B[0;34m,\u001B[0m \u001B[0mself\u001B[0m\u001B[0;34m.\u001B[0m\u001B[0m_mode\u001B[0m\u001B[0;34m,\u001B[0m \u001B[0mencoding\u001B[0m\u001B[0;34m=\u001B[0m\u001B[0;32mNone\u001B[0m\u001B[0;34m\u001B[0m\u001B[0;34m\u001B[0m\u001B[0m\n\u001B[1;32m  14576\u001B[0m             )  # type: ignore\n\u001B[1;32m  14577\u001B[0m             \u001B[0mself\u001B[0m\u001B[0;34m.\u001B[0m\u001B[0m_close\u001B[0m \u001B[0;34m=\u001B[0m \u001B[0;32mTrue\u001B[0m\u001B[0;34m\u001B[0m\u001B[0;34m\u001B[0m\u001B[0m\n",
      "\u001B[0;31mFileNotFoundError\u001B[0m: [Errno 2] No such file or directory: '/tmp/pycharm_project_241/C:\\\\Users\\\\dafka\\\\FinalProject\\\\Final Project data\\\\15_30_HIGH_5_LOW 3CM\\\\M1\\\\initial mask substack.tif'"
     ]
    }
   ],
   "execution_count": 3
  },
  {
   "cell_type": "markdown",
   "id": "be2a7994-ccfc-4039-9388-ca5c3a4660cc",
   "metadata": {},
   "source": [
    "# slicing the interpolated files"
   ]
  },
  {
   "cell_type": "code",
   "execution_count": 3,
   "id": "0f565c62-7457-4276-b681-91ddcf1b5e22",
   "metadata": {},
   "outputs": [
    {
     "name": "stdout",
     "output_type": "stream",
     "text": [
      "Slice 1 saved as C:\\Users\\dafka\\FinalProject\\nnUNet\\nnUNet_raw\\Dataset001_1530640M1\\imagesTr\\01.tif\n",
      "Slice 2 saved as C:\\Users\\dafka\\FinalProject\\nnUNet\\nnUNet_raw\\Dataset001_1530640M1\\imagesTr\\02.tif\n",
      "Slice 3 saved as C:\\Users\\dafka\\FinalProject\\nnUNet\\nnUNet_raw\\Dataset001_1530640M1\\imagesTr\\03.tif\n",
      "Slice 4 saved as C:\\Users\\dafka\\FinalProject\\nnUNet\\nnUNet_raw\\Dataset001_1530640M1\\imagesTr\\04.tif\n",
      "Slice 5 saved as C:\\Users\\dafka\\FinalProject\\nnUNet\\nnUNet_raw\\Dataset001_1530640M1\\imagesTr\\05.tif\n",
      "Slice 6 saved as C:\\Users\\dafka\\FinalProject\\nnUNet\\nnUNet_raw\\Dataset001_1530640M1\\imagesTr\\06.tif\n",
      "Slice 7 saved as C:\\Users\\dafka\\FinalProject\\nnUNet\\nnUNet_raw\\Dataset001_1530640M1\\imagesTr\\07.tif\n",
      "Slice 8 saved as C:\\Users\\dafka\\FinalProject\\nnUNet\\nnUNet_raw\\Dataset001_1530640M1\\imagesTr\\08.tif\n",
      "Slice 9 saved as C:\\Users\\dafka\\FinalProject\\nnUNet\\nnUNet_raw\\Dataset001_1530640M1\\imagesTr\\09.tif\n",
      "Slice 10 saved as C:\\Users\\dafka\\FinalProject\\nnUNet\\nnUNet_raw\\Dataset001_1530640M1\\imagesTr\\10.tif\n",
      "Slice 11 saved as C:\\Users\\dafka\\FinalProject\\nnUNet\\nnUNet_raw\\Dataset001_1530640M1\\imagesTr\\11.tif\n",
      "Slice 12 saved as C:\\Users\\dafka\\FinalProject\\nnUNet\\nnUNet_raw\\Dataset001_1530640M1\\imagesTr\\12.tif\n",
      "Slice 13 saved as C:\\Users\\dafka\\FinalProject\\nnUNet\\nnUNet_raw\\Dataset001_1530640M1\\imagesTr\\13.tif\n",
      "Slice 14 saved as C:\\Users\\dafka\\FinalProject\\nnUNet\\nnUNet_raw\\Dataset001_1530640M1\\imagesTr\\14.tif\n",
      "Slice 15 saved as C:\\Users\\dafka\\FinalProject\\nnUNet\\nnUNet_raw\\Dataset001_1530640M1\\imagesTr\\15.tif\n",
      "Slice 16 saved as C:\\Users\\dafka\\FinalProject\\nnUNet\\nnUNet_raw\\Dataset001_1530640M1\\imagesTr\\16.tif\n",
      "Slice 17 saved as C:\\Users\\dafka\\FinalProject\\nnUNet\\nnUNet_raw\\Dataset001_1530640M1\\imagesTr\\17.tif\n",
      "Slice 18 saved as C:\\Users\\dafka\\FinalProject\\nnUNet\\nnUNet_raw\\Dataset001_1530640M1\\imagesTr\\18.tif\n",
      "Slice 19 saved as C:\\Users\\dafka\\FinalProject\\nnUNet\\nnUNet_raw\\Dataset001_1530640M1\\imagesTr\\19.tif\n",
      "Slice 20 saved as C:\\Users\\dafka\\FinalProject\\nnUNet\\nnUNet_raw\\Dataset001_1530640M1\\imagesTr\\20.tif\n",
      "Slice 21 saved as C:\\Users\\dafka\\FinalProject\\nnUNet\\nnUNet_raw\\Dataset001_1530640M1\\imagesTr\\21.tif\n",
      "Slice 22 saved as C:\\Users\\dafka\\FinalProject\\nnUNet\\nnUNet_raw\\Dataset001_1530640M1\\imagesTr\\22.tif\n",
      "Slice 23 saved as C:\\Users\\dafka\\FinalProject\\nnUNet\\nnUNet_raw\\Dataset001_1530640M1\\imagesTr\\23.tif\n",
      "Slice 24 saved as C:\\Users\\dafka\\FinalProject\\nnUNet\\nnUNet_raw\\Dataset001_1530640M1\\imagesTr\\24.tif\n",
      "Slice 25 saved as C:\\Users\\dafka\\FinalProject\\nnUNet\\nnUNet_raw\\Dataset001_1530640M1\\imagesTr\\25.tif\n",
      "Slice 26 saved as C:\\Users\\dafka\\FinalProject\\nnUNet\\nnUNet_raw\\Dataset001_1530640M1\\imagesTr\\26.tif\n",
      "Slice 27 saved as C:\\Users\\dafka\\FinalProject\\nnUNet\\nnUNet_raw\\Dataset001_1530640M1\\imagesTr\\27.tif\n",
      "Slice 28 saved as C:\\Users\\dafka\\FinalProject\\nnUNet\\nnUNet_raw\\Dataset001_1530640M1\\imagesTr\\28.tif\n",
      "Slice 29 saved as C:\\Users\\dafka\\FinalProject\\nnUNet\\nnUNet_raw\\Dataset001_1530640M1\\imagesTr\\29.tif\n",
      "Slice 30 saved as C:\\Users\\dafka\\FinalProject\\nnUNet\\nnUNet_raw\\Dataset001_1530640M1\\imagesTr\\30.tif\n",
      "Slice 31 saved as C:\\Users\\dafka\\FinalProject\\nnUNet\\nnUNet_raw\\Dataset001_1530640M1\\imagesTr\\31.tif\n",
      "Slice 32 saved as C:\\Users\\dafka\\FinalProject\\nnUNet\\nnUNet_raw\\Dataset001_1530640M1\\imagesTr\\32.tif\n",
      "Slice 33 saved as C:\\Users\\dafka\\FinalProject\\nnUNet\\nnUNet_raw\\Dataset001_1530640M1\\imagesTr\\33.tif\n",
      "Slice 34 saved as C:\\Users\\dafka\\FinalProject\\nnUNet\\nnUNet_raw\\Dataset001_1530640M1\\imagesTr\\34.tif\n",
      "Slice 35 saved as C:\\Users\\dafka\\FinalProject\\nnUNet\\nnUNet_raw\\Dataset001_1530640M1\\imagesTr\\35.tif\n",
      "Slice 36 saved as C:\\Users\\dafka\\FinalProject\\nnUNet\\nnUNet_raw\\Dataset001_1530640M1\\imagesTr\\36.tif\n",
      "Slice 37 saved as C:\\Users\\dafka\\FinalProject\\nnUNet\\nnUNet_raw\\Dataset001_1530640M1\\imagesTr\\37.tif\n",
      "Slice 38 saved as C:\\Users\\dafka\\FinalProject\\nnUNet\\nnUNet_raw\\Dataset001_1530640M1\\imagesTr\\38.tif\n",
      "Slice 39 saved as C:\\Users\\dafka\\FinalProject\\nnUNet\\nnUNet_raw\\Dataset001_1530640M1\\imagesTr\\39.tif\n",
      "Slice 40 saved as C:\\Users\\dafka\\FinalProject\\nnUNet\\nnUNet_raw\\Dataset001_1530640M1\\imagesTr\\40.tif\n",
      "Slice 41 saved as C:\\Users\\dafka\\FinalProject\\nnUNet\\nnUNet_raw\\Dataset001_1530640M1\\imagesTr\\41.tif\n",
      "Slice 42 saved as C:\\Users\\dafka\\FinalProject\\nnUNet\\nnUNet_raw\\Dataset001_1530640M1\\imagesTr\\42.tif\n",
      "Slice 43 saved as C:\\Users\\dafka\\FinalProject\\nnUNet\\nnUNet_raw\\Dataset001_1530640M1\\imagesTr\\43.tif\n",
      "Slice 44 saved as C:\\Users\\dafka\\FinalProject\\nnUNet\\nnUNet_raw\\Dataset001_1530640M1\\imagesTr\\44.tif\n",
      "Slice 45 saved as C:\\Users\\dafka\\FinalProject\\nnUNet\\nnUNet_raw\\Dataset001_1530640M1\\imagesTr\\45.tif\n",
      "Slice 46 saved as C:\\Users\\dafka\\FinalProject\\nnUNet\\nnUNet_raw\\Dataset001_1530640M1\\imagesTr\\46.tif\n",
      "Slice 47 saved as C:\\Users\\dafka\\FinalProject\\nnUNet\\nnUNet_raw\\Dataset001_1530640M1\\imagesTr\\47.tif\n",
      "Slice 48 saved as C:\\Users\\dafka\\FinalProject\\nnUNet\\nnUNet_raw\\Dataset001_1530640M1\\imagesTr\\48.tif\n",
      "Slice 49 saved as C:\\Users\\dafka\\FinalProject\\nnUNet\\nnUNet_raw\\Dataset001_1530640M1\\imagesTr\\49.tif\n",
      "Slice 50 saved as C:\\Users\\dafka\\FinalProject\\nnUNet\\nnUNet_raw\\Dataset001_1530640M1\\imagesTr\\50.tif\n",
      "Slice 51 saved as C:\\Users\\dafka\\FinalProject\\nnUNet\\nnUNet_raw\\Dataset001_1530640M1\\imagesTr\\51.tif\n",
      "Slice 52 saved as C:\\Users\\dafka\\FinalProject\\nnUNet\\nnUNet_raw\\Dataset001_1530640M1\\imagesTr\\52.tif\n",
      "Slicing complete.\n"
     ]
    }
   ],
   "source": [
    "def split_tiff(tiff_path, output_dir=None):\n",
    "    # Read the TIFF file\n",
    "    tiff_data = imread(tiff_path)\n",
    "\n",
    "    # Check if the TIFF file contains multiple slices\n",
    "    if len(tiff_data.shape) != 3:\n",
    "        print(\"The TIFF file does not contain multiple slices.\")\n",
    "        return\n",
    "\n",
    "    # Extract the file name without extension\n",
    "    file_name = os.path.splitext(os.path.basename(tiff_path))[0]\n",
    "\n",
    "    # Create the output directory if not provided\n",
    "    if output_dir is None:\n",
    "        output_dir = file_name + \"_slices\"\n",
    "    os.makedirs(output_dir, exist_ok=True)\n",
    "\n",
    "    # Save each slice as a separate TIFF file\n",
    "    for i, slice_data in enumerate(tiff_data):\n",
    "        slice_filename = f\"{i+1:02d}.tif\"  # e.g., 01.tif\n",
    "        slice_path = os.path.join(output_dir, slice_filename)\n",
    "        imwrite(slice_path, slice_data)\n",
    "        print(f\"Slice {i+1} saved as {slice_path}\")\n",
    "\n",
    "    print(\"Slicing complete.\")\n",
    "\n",
    "# Specify the path to your mask TIFF file\n",
    "tiff_file_path = r\"C:\\Users\\dafka\\FinalProject\\Final Project data\\15_30_HIGH_5_LOW 3CM\\M1\\Interpolated 640 M1 stack.tif\"\n",
    "\n",
    "# Specify the output directory path\n",
    "output_directory = r\"C:\\Users\\dafka\\FinalProject\\nnUNet\\nnUNet_raw\\Dataset001_1530640M1\\imagesTr\"\n",
    "\n",
    "# Call the function to split the mask TIFF file into individual slices\n",
    "split_tiff(tiff_file_path, output_directory)\n"
   ]
  }
 ],
 "metadata": {
  "kernelspec": {
   "display_name": "Python 3 (ipykernel)",
   "language": "python",
   "name": "python3"
  },
  "language_info": {
   "codemirror_mode": {
    "name": "ipython",
    "version": 3
   },
   "file_extension": ".py",
   "mimetype": "text/x-python",
   "name": "python",
   "nbconvert_exporter": "python",
   "pygments_lexer": "ipython3",
   "version": "3.12.3"
  }
 },
 "nbformat": 4,
 "nbformat_minor": 5
}
