{
 "cells": [
  {
   "metadata": {
    "ExecuteTime": {
     "end_time": "2024-06-19T10:08:13.874421Z",
     "start_time": "2024-06-19T10:08:13.867641Z"
    }
   },
   "cell_type": "code",
   "source": [
    "import os\n",
    "import shutil\n",
    "from nnunetv2.dataset_conversion.generate_dataset_json import generate_dataset_json\n",
    "from batchgenerators.utilities.file_and_folder_operations import maybe_mkdir_p, save_json, subfiles"
   ],
   "id": "936c6df98c272d3a",
   "outputs": [],
   "execution_count": 1
  },
  {
   "cell_type": "code",
   "id": "dea1a384-d025-49c4-916f-9cbeec54910f",
   "metadata": {
    "ExecuteTime": {
     "end_time": "2024-06-22T06:45:36.072224Z",
     "start_time": "2024-06-22T06:45:36.067472Z"
    }
   },
   "source": [
    "import os\n",
    "import shutil\n",
    "from nnunetv2.dataset_conversion.generate_dataset_json import generate_dataset_json\n",
    "from batchgenerators.utilities.file_and_folder_operations import maybe_mkdir_p, save_json, subfiles\n",
    "def create_dataset_json_and_prepare_data(dataset_name, train_source, test_source, label_source, spacing):\n",
    "    nnUNet_raw = r'/alsxdata/ItamarAndDafna/nnUNet/nnUNet_raw'\n",
    "    nnUNet_preprocessed = r'/alsxdata/ItamarAndDafna/nnUNet/nnUNet_preprocessed'\n",
    "\n",
    "    imagesTr_dir = os.path.join(nnUNet_raw, dataset_name, 'imagesTr')\n",
    "    imagesTs_dir = os.path.join(nnUNet_raw, dataset_name, 'imagesTs')\n",
    "    labelsTr_dir = os.path.join(nnUNet_raw, dataset_name, 'labelsTr')\n",
    "    maybe_mkdir_p(imagesTr_dir)\n",
    "    maybe_mkdir_p(imagesTs_dir)\n",
    "    maybe_mkdir_p(labelsTr_dir)\n",
    "    maybe_mkdir_p(os.path.join(nnUNet_preprocessed, dataset_name))\n",
    "\n",
    "    # Generate the dataset JSON\n",
    "    generate_dataset_json(\n",
    "        os.path.join(nnUNet_raw, dataset_name),\n",
    "        {0: 'mauthner_cells'},\n",
    "        {'background': 0, 'cell': 1},\n",
    "        num_training_cases=len(subfiles(train_source, suffix='.tif', join=False)),\n",
    "        file_ending='.tif',\n",
    "        dataset_description=\"Segmentation of mauthner cells\",\n",
    "        license=\"CC-BY-SA 4.0\",\n",
    "        spacing=spacing\n",
    "    )\n",
    "    #figure out why it did this\n",
    "    # Copy test images and generate JSON with spacing\n",
    "    #images_test = subfiles(test_source, suffix='.tif', sort=True, join=False)\n",
    "    #for i, im in enumerate(images_test):\n",
    "        #target_name = f'test_image_{i+1:04d}'\n",
    "       # shutil.copy(os.path.join(test_source, im), os.path.join(imagesTs_dir, target_name + '_0000.tif'))\n",
    "        #save_json({'spacing': spacing}, os.path.join(imagesTs_dir, target_name + '.json'))\n",
    "\n",
    "if __name__ == '__main__':\n",
    "    dataset_name = 'Dataset024_1530640M1'\n",
    "\n",
    "    train_source = r'/alsxdata/ItamarAndDafna/nnUNet/nnUNet_raw/Dataset024_1530640M1/imagesTr'\n",
    "    test_source = r'/alsxdata/ItamarAndDafna/nnUNet/nnUNet_raw/Dataset024_1530640M1/imagesTs'\n",
    "    label_source = r'/alsxdata/ItamarAndDafna/nnUNet/nnUNet_raw/Dataset024_1530640M1/labelsTr'\n",
    "    \n",
    "    # Spacing definition\n",
    "    spacing = (1, 0.126, 0.126)\n",
    "\n",
    "    # Create dataset JSON and prepare data\n",
    "    create_dataset_json_and_prepare_data(dataset_name, train_source, test_source, label_source, spacing)"
   ],
   "outputs": [],
   "execution_count": 2
  },
  {
   "metadata": {},
   "cell_type": "code",
   "execution_count": null,
   "source": "",
   "id": "ee8e32816f7dc665",
   "outputs": []
  }
 ],
 "metadata": {
  "kernelspec": {
   "display_name": "Python 3 (ipykernel)",
   "language": "python",
   "name": "python3"
  },
  "language_info": {
   "codemirror_mode": {
    "name": "ipython",
    "version": 3
   },
   "file_extension": ".py",
   "mimetype": "text/x-python",
   "name": "python",
   "nbconvert_exporter": "python",
   "pygments_lexer": "ipython3",
   "version": "3.12.3"
  }
 },
 "nbformat": 4,
 "nbformat_minor": 5
}
