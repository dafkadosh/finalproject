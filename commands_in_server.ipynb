{
 "cells": [
  {
   "metadata": {
    "jupyter": {
     "is_executing": true
    }
   },
   "cell_type": "code",
   "source": [
    "import matplotlib.pyplot as plt\n",
    "import os"
   ],
   "id": "1694b0fc58db201c",
   "outputs": [],
   "execution_count": null
  },
  {
   "metadata": {
    "jupyter": {
     "is_executing": true
    }
   },
   "cell_type": "code",
   "source": [
    "#nnUNetv2_plan_and_preprocess -d 024 --verify_dataset_integrity\n",
    "\n",
    "#nnUNet_compile=f nnUNetv2_train 024 2d all\n",
    "#nnUNetv2_predict -i /alsxdata/ItamarAndDafna/nnUNet/nnUNet_raw/Dataset024_1530640M1/imagesTs/ -o /alsxdata/ItamarAndDafna/nnUNet/nnUNet_results/Dataset024_1530640M1/tst.17.6/ 024 -c 2d -f -all\n",
    " \n",
    "import json\n",
    "# Replace with your specific log file path\n",
    "log_file_path = '/alsxdata/ItamarAndDafna/nnUNet/nnUNet_results/Dataset024_1530640M1/nnUNetTrainer__nnUNetPlans__2d/fold_all/training_log_2024_6_17_13_35_48.txt'\n",
    "\n",
    "def read_loss_from_text_log(log_file):\n",
    "    training_loss = []\n",
    "    validation_loss = []\n",
    "    with open(log_file, 'r') as f:\n",
    "        for line in f:\n",
    "            if \"training loss\" in line:\n",
    "                loss = float(line.split()[-1])  # Assuming the loss is the last value in the line\n",
    "                training_loss.append(loss)\n",
    "            elif \"validation loss\" in line:\n",
    "                loss = float(line.split()[-1])  # Adjust based on the format of your log\n",
    "                validation_loss.append(loss)\n",
    "    return training_loss, validation_loss\n",
    "\n",
    "# Function to plot the loss over epochs\n",
    "def plot_loss(training_loss, validation_loss, save_path):\n",
    "    epochs = range(1, len(training_loss) + 1)\n",
    "    \n",
    "    plt.figure(figsize=(10, 5))\n",
    "    plt.plot(epochs, training_loss, 'b', label='Training Loss')\n",
    "    plt.plot(epochs, validation_loss, 'r', label='Validation Loss')\n",
    "    plt.title('Training and Validation Loss over Epochs')\n",
    "    plt.xlabel('Epochs')\n",
    "    plt.ylabel('Loss')\n",
    "    plt.legend()\n",
    "    plt.grid(True)\n",
    "    \n",
    "    plt.savefig(save_path)\n",
    "    plt.show()\n",
    "\n",
    "# Main function\n",
    "def main():\n",
    "    if not os.path.exists(log_file_path):\n",
    "        print(f\"Log file not found: {log_file_path}\")\n",
    "        return\n",
    "    \n",
    "    training_loss, validation_loss = read_loss_from_text_log(log_file_path)\n",
    "    \n",
    "    if not training_loss:\n",
    "        print(\"No training loss found in the log.\")\n",
    "        return\n",
    "    \n",
    "    if not validation_loss:\n",
    "        print(\"No validation loss found in the log. Plotting training loss only.\")\n",
    "    \n",
    "    save_path = 'loss_plot.png'  # Specify the path to save the plot\n",
    "    plot_loss(training_loss, validation_loss, save_path)\n",
    "    print(f\"Loss plot saved to: {save_path}\")\n",
    "\n",
    "# Execute the main function\n",
    "if __name__ == '__main__':\n",
    "    main()"
   ],
   "id": "fc232876902c9667",
   "outputs": [],
   "execution_count": null
  },
  {
   "metadata": {},
   "cell_type": "code",
   "outputs": [],
   "execution_count": null,
   "source": "",
   "id": "e20965f604d07e4e"
  }
 ],
 "metadata": {
  "kernelspec": {
   "display_name": "Python 3 (ipykernel)",
   "language": "python",
   "name": "python3"
  },
  "language_info": {
   "codemirror_mode": {
    "name": "ipython",
    "version": 3
   },
   "file_extension": ".py",
   "mimetype": "text/x-python",
   "name": "python",
   "nbconvert_exporter": "python",
   "pygments_lexer": "ipython3",
   "version": "3.12.3"
  }
 },
 "nbformat": 4,
 "nbformat_minor": 5
}
