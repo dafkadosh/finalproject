{
 "cells": [
  {
   "cell_type": "code",
   "execution_count": null,
   "id": "initial_id",
   "metadata": {
    "collapsed": true
   },
   "outputs": [],
   "source": []
  },
  {
   "cell_type": "code",
   "execution_count": 3,
   "outputs": [
    {
     "name": "stdout",
     "output_type": "stream",
     "text": [
      "Comparison Result:\n",
      "   image_name better_accuracy better_precision better_recall better_f1_score better_specificity better_similarity_percentage\n",
      "image_001.tif            csv1             csv1          csv1            csv1               csv1                         csv1\n",
      "image_002.tif            csv1             csv2          csv1            csv1               csv2                         csv1\n",
      "image_003.tif            csv2             csv2         Equal            csv2               csv2                         csv2\n",
      "image_004.tif            csv1             csv2          csv1            csv1               csv2                         csv1\n",
      "image_005.tif            csv1             csv1          csv1            csv1               csv1                         csv1\n",
      "image_006.tif            csv2             csv1          csv2            csv2               csv1                         csv2\n",
      "image_007.tif            csv1             csv1          csv1            csv1               csv1                         csv1\n",
      "image_008.tif            csv1             csv1          csv1            csv1               csv1                         csv1\n",
      "image_009.tif            csv2             csv2          csv1            csv2               csv2                         csv2\n",
      "image_010.tif            csv2             csv2          csv2            csv2               csv2                         csv2\n",
      "image_011.tif            csv2             csv2          csv2            csv2               csv2                         csv2\n",
      "image_012.tif            csv2             csv2          csv2            csv2               csv2                         csv2\n",
      "image_013.tif            csv2             csv2          csv1            csv2               csv2                         csv2\n",
      "image_014.tif            csv1             csv1          csv2            csv1               csv1                         csv1\n",
      "image_015.tif            csv1             csv2          csv1            csv1               csv2                         csv1\n",
      "image_016.tif            csv1             csv1          csv1            csv1               csv1                         csv1\n",
      "image_017.tif            csv1             csv1          csv2            csv1               csv1                         csv1\n",
      "image_018.tif            csv2             csv1          csv2            csv2               csv1                         csv2\n",
      "image_019.tif            csv2             csv2          csv2            csv2               csv2                         csv2\n",
      "image_020.tif            csv2             csv2          csv1            csv2               csv2                         csv2\n",
      "image_021.tif            csv1             csv1          csv1            csv1              Equal                         csv1\n",
      "image_022.tif            csv2             csv2          csv2            csv2               csv2                         csv2\n",
      "image_023.tif           Equal            Equal         Equal           Equal              Equal                        Equal\n",
      "image_024.tif           Equal            Equal         Equal           Equal              Equal                        Equal\n",
      "    csv1/csv2    11/11 (1.00)     10/12 (0.83)   12/9 (1.33)    11/11 (1.00)        9/12 (0.75)                 11/11 (1.00)\n"
     ]
    }
   ],
   "source": [
    "import pandas as pd\n",
    "\n",
    "def compare_metrics(csv_file1, csv_file2):\n",
    "    # Read CSV files into DataFrames\n",
    "    df1 = pd.read_csv(csv_file1)\n",
    "    df2 = pd.read_csv(csv_file2)\n",
    "    \n",
    "    # Extract image names from image2_path column\n",
    "    df1['image_name'] = df1['image2_path'].apply(lambda x: x.split('/')[-1])\n",
    "    df2['image_name'] = df2['image2_path'].apply(lambda x: x.split('/')[-1])\n",
    "    \n",
    "    # List of metrics to compare\n",
    "    metrics = ['accuracy', 'precision', 'recall', 'f1_score', 'specificity', 'similarity_percentage']\n",
    "    \n",
    "    # Initialize DataFrame for comparison result\n",
    "    comparison_result = pd.DataFrame(columns=['image_name'])\n",
    "    comparison_result['image_name'] = df1['image_name']\n",
    "    \n",
    "    # Compare each metric\n",
    "    for metric in metrics:\n",
    "        # Merge to compare metric values\n",
    "        merged_df = pd.merge(df1[['image_name', metric]], df2[['image_name', metric]], on='image_name', suffixes=('_csv1', '_csv2'))\n",
    "        \n",
    "        # Compare metrics\n",
    "        comparison_result[f'better_{metric}'] = merged_df.apply(lambda row: 'csv1' if row[f'{metric}_csv1'] > row[f'{metric}_csv2'] else ('csv2' if row[f'{metric}_csv2'] > row[f'{metric}_csv1'] else \"Equal\"), axis=1)\n",
    "    \n",
    "    # Calculate the ratio of times csv1 got better results to csv2 for accuracy\n",
    "    better_counts_acc = comparison_result['better_accuracy'].value_counts()\n",
    "    csv1_count_acc = better_counts_acc['csv1'] if 'csv1' in better_counts_acc else 0\n",
    "    csv2_count_acc = better_counts_acc['csv2'] if 'csv2' in better_counts_acc else 0\n",
    "    ratio_acc = csv1_count_acc / csv2_count_acc if csv2_count_acc != 0 else float('inf')\n",
    "    \n",
    "    # Calculate the ratio of times csv1 got better results to csv2 for other metrics\n",
    "    ratio_metrics = {}\n",
    "    for metric in metrics:\n",
    "        better_counts = comparison_result[f'better_{metric}'].value_counts()\n",
    "        csv1_count = better_counts['csv1'] if 'csv1' in better_counts else 0\n",
    "        csv2_count = better_counts['csv2'] if 'csv2' in better_counts else 0\n",
    "        ratio = csv1_count / csv2_count if csv2_count != 0 else float('inf')\n",
    "        ratio_metrics[metric] = f\"{csv1_count}/{csv2_count} ({ratio:.2f})\"\n",
    "    \n",
    "    # Create the final row\n",
    "    final_row = pd.DataFrame({\n",
    "        'image_name': ['csv1/csv2'],\n",
    "        'better_accuracy': [f\"{csv1_count_acc}/{csv2_count_acc} ({ratio_acc:.2f})\"]\n",
    "    })\n",
    "    for metric in metrics:\n",
    "        final_row[f'better_{metric}'] = [ratio_metrics[metric]]\n",
    "    \n",
    "    # Concatenate final row to comparison result\n",
    "    comparison_result = pd.concat([comparison_result, final_row], ignore_index=True)\n",
    "    \n",
    "    return comparison_result\n",
    "\n",
    "# Example usage:\n",
    "if __name__ == \"__main__\":\n",
    "    # Paths to the CSV files\n",
    "    csv_file1 = \"/argusdata/users/undergrads/ItamarAndDafna/metrics_2d/metrics_Dataset030_1030GlyRM1_4_folds_500epochs.csv\"\n",
    "    csv_file2 = \"/argusdata/users/undergrads/ItamarAndDafna/metrics_2d/metrics_Dataset030_1030GlyRM1_4_folds_250epochs.csv\"\n",
    "    \n",
    "    # Compare metrics\n",
    "    comparison_result = compare_metrics(csv_file1, csv_file2)\n",
    "    \n",
    "    # Display comparison result\n",
    "    print(\"Comparison Result:\")\n",
    "    print(comparison_result.to_string(index=False))\n"
   ],
   "metadata": {
    "collapsed": false,
    "ExecuteTime": {
     "end_time": "2024-06-30T22:31:27.432938900Z",
     "start_time": "2024-06-30T22:31:27.400578Z"
    }
   },
   "id": "b8df64d31fa2a336"
  },
  {
   "cell_type": "code",
   "execution_count": null,
   "outputs": [],
   "source": [
    "\"/argusdata/users/undergrads/ItamarAndDafna/metrics_2d/metrics_Dataset030_1030GlyRM1_500epochs.csv\"\n",
    "\"/argusdata/users/undergrads/ItamarAndDafna/metrics_2d/metrics_Dataset030_1030GlyRM1_250epochs.csv\"\n",
    "\"/argusdata/users/undergrads/ItamarAndDafna/metrics_2d/metrics_Dataset030_1030GlyRM1_4_folds_250epochs.csv\""
   ],
   "metadata": {
    "collapsed": false
   },
   "id": "f3297683f71cf6ec"
  }
 ],
 "metadata": {
  "kernelspec": {
   "display_name": "Python 3",
   "language": "python",
   "name": "python3"
  },
  "language_info": {
   "codemirror_mode": {
    "name": "ipython",
    "version": 2
   },
   "file_extension": ".py",
   "mimetype": "text/x-python",
   "name": "python",
   "nbconvert_exporter": "python",
   "pygments_lexer": "ipython2",
   "version": "2.7.6"
  }
 },
 "nbformat": 4,
 "nbformat_minor": 5
}
