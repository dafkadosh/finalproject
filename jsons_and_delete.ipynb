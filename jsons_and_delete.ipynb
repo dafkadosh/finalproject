{
 "cells": [
  {
   "cell_type": "code",
   "execution_count": 1,
   "id": "initial_id",
   "metadata": {
    "collapsed": true,
    "ExecuteTime": {
     "end_time": "2024-06-22T20:40:36.068703600Z",
     "start_time": "2024-06-22T20:40:36.014844400Z"
    }
   },
   "outputs": [],
   "source": [
    "import os\n",
    "import shutil\n",
    "from nnunetv2.dataset_conversion.generate_dataset_json import generate_dataset_json\n",
    "from batchgenerators.utilities.file_and_folder_operations import maybe_mkdir_p, save_json, subfiles\n",
    "\n",
    "def delete_existing_json(output_folder):\n",
    "    json_path = os.path.join(output_folder, 'dataset.json')\n",
    "    if os.path.exists(json_path):\n",
    "        os.remove(json_path)\n",
    "        print(f\"Deleted existing JSON file at: {json_path}\")\n",
    "\n",
    "def create_dataset_json_and_prepare_data(dataset_name, train_source, test_source, label_source, spacing):\n",
    "    nnUNet_raw = r'/alsxdata/ItamarAndDafna/nnUNet/nnUNet_raw'\n",
    "    nnUNet_preprocessed = r'/alsxdata/ItamarAndDafna/nnUNet/nnUNet_preprocessed'\n",
    "\n",
    "    imagesTr_dir = os.path.join(nnUNet_raw, dataset_name, 'imagesTr')\n",
    "    imagesTs_dir = os.path.join(nnUNet_raw, dataset_name, 'imagesTs')\n",
    "    labelsTr_dir = os.path.join(nnUNet_raw, dataset_name, 'labelsTr')\n",
    "    maybe_mkdir_p(imagesTr_dir)\n",
    "    maybe_mkdir_p(imagesTs_dir)\n",
    "    maybe_mkdir_p(labelsTr_dir)\n",
    "    maybe_mkdir_p(os.path.join(nnUNet_preprocessed, dataset_name))\n",
    "\n",
    "    # Delete existing dataset JSON if it exists\n",
    "    delete_existing_json(os.path.join(nnUNet_raw, dataset_name))\n",
    "\n",
    "    # Generate the dataset JSON\n",
    "    generate_dataset_json(\n",
    "        os.path.join(nnUNet_raw, dataset_name),\n",
    "        {0: 'mauthner_cells'},\n",
    "        {'background': 0, 'cell': 1},\n",
    "        num_training_cases=len(subfiles(train_source, suffix='.tif', join=False)),\n",
    "        file_ending='.tif',\n",
    "        dataset_description=\"Segmentation of mauthner cells\",\n",
    "        license=\"CC-BY-SA 4.0\",\n",
    "        spacing=spacing\n",
    "    )\n",
    "    \n",
    "    # Copy test images and generate JSON with spacing\n",
    "    # Uncomment and adapt this block if needed\n",
    "    # images_test = subfiles(test_source, suffix='.tif', sort=True, join=False)\n",
    "    # for i, im in enumerate(images_test):\n",
    "    #     target_name = f'test_image_{i+1:04d}'\n",
    "    #     shutil.copy(os.path.join(test_source, im), os.path.join(imagesTs_dir, target_name + '_0000.tif'))\n",
    "    #     save_json({'spacing': spacing}, os.path.join(imagesTs_dir, target_name + '.json'))\n",
    "\n",
    "if __name__ == '__main__':\n",
    "    dataset_name = 'Dataset024_1530640M1'\n",
    "\n",
    "    train_source = r'/alsxdata/ItamarAndDafna/nnUNet/nnUNet_raw/Dataset024_1530640M1/imagesTr'\n",
    "    test_source = r'/alsxdata/ItamarAndDafna/nnUNet/nnUNet_raw/Dataset024_1530640M1/imagesTs'\n",
    "    label_source = r'/alsxdata/ItamarAndDafna/nnUNet/nnUNet_raw/Dataset024_1530640M1/labelsTr'\n",
    "    \n",
    "    # Spacing definition\n",
    "    spacing = (1, 0.126, 0.126)\n",
    "\n",
    "    # Create dataset JSON and prepare data\n",
    "    create_dataset_json_and_prepare_data(dataset_name, train_source, test_source, label_source, spacing)\n"
   ]
  },
  {
   "cell_type": "code",
   "execution_count": null,
   "outputs": [],
   "source": [],
   "metadata": {
    "collapsed": false
   },
   "id": "82b4762072daf223"
  }
 ],
 "metadata": {
  "kernelspec": {
   "display_name": "Python 3",
   "language": "python",
   "name": "python3"
  },
  "language_info": {
   "codemirror_mode": {
    "name": "ipython",
    "version": 2
   },
   "file_extension": ".py",
   "mimetype": "text/x-python",
   "name": "python",
   "nbconvert_exporter": "python",
   "pygments_lexer": "ipython2",
   "version": "2.7.6"
  }
 },
 "nbformat": 4,
 "nbformat_minor": 5
}
