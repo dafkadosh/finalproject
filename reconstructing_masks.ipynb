{
 "cells": [
  {
   "cell_type": "markdown",
   "source": [
    "# by the order of the csv file, not correct!"
   ],
   "metadata": {
    "collapsed": false
   },
   "id": "32f9077a311c1752"
  },
  {
   "cell_type": "code",
   "execution_count": 1,
   "id": "initial_id",
   "metadata": {
    "collapsed": true,
    "ExecuteTime": {
     "end_time": "2024-07-01T16:50:40.396157900Z",
     "start_time": "2024-07-01T16:50:39.877817700Z"
    }
   },
   "outputs": [
    {
     "name": "stdout",
     "output_type": "stream",
     "text": [
      "Reconstructed image saved to /argusdata/users/undergrads/ItamarAndDafna/reconstructed_from_prediction/Dataset030_1030GlyRM1_TrPlusTs_4_folds_250ep/reconstructed_image.tif\n"
     ]
    }
   ],
   "source": [
    "import os\n",
    "import csv\n",
    "import numpy as np\n",
    "from tifffile import imread, imwrite\n",
    "\n",
    "def read_slices_order(csv_file_path):\n",
    "    \"\"\"Read the order of slices from the CSV file.\"\"\"\n",
    "    slices_order = {}\n",
    "    with open(csv_file_path, mode='r') as csv_file:\n",
    "        csv_reader = csv.reader(csv_file)\n",
    "        next(csv_reader)  # Skip header row\n",
    "        for row in csv_reader:\n",
    "            slice_number, set_type, slice_path = row\n",
    "            slices_order[int(slice_number)] = slice_path\n",
    "    return slices_order\n",
    "\n",
    "def reconstruct_image(slices_order, output_path):\n",
    "    \"\"\"Reconstruct the image from the slices.\"\"\"\n",
    "    sorted_slices = sorted(slices_order.items())  # Ensure slices are in correct order\n",
    "    reconstructed_slices = [imread(slice_path) for _, slice_path in sorted_slices]\n",
    "    reconstructed_image = np.stack(reconstructed_slices, axis=0)\n",
    "    imwrite(output_path, reconstructed_image)\n",
    "    print(f\"Reconstructed image saved to {output_path}\")\n",
    "\n",
    "# Specify the path to the CSV file containing the slice order\n",
    "csv_file_path = f\"/argusdata/users/undergrads/ItamarAndDafna/slicing_info/split_records_Dataset030_1030GlyRM1.csv\"\n",
    "\n",
    "# Specify the directory containing the predicted slices\n",
    "predicted_slices_dir = f\"/argusdata/users/undergrads/ItamarAndDafna/nnUNet/nnUNet_results/Dataset030_1030GlyRM1/TrPlusTs_4_folds_250ep/\"\n",
    "\n",
    "# Specify the output path for the reconstructed image\n",
    "reconstructed_image_path = f\"/argusdata/users/undergrads/ItamarAndDafna/reconstructed_from_prediction/Dataset030_1030GlyRM1_TrPlusTs_4_folds_250ep/reconstructed_image.tif\"\n",
    "\n",
    "# Read the slices order from the CSV file\n",
    "slices_order = read_slices_order(csv_file_path)\n",
    "\n",
    "# Update slices_order paths to point to the predicted slices directory\n",
    "slices_order = {k: os.path.join(predicted_slices_dir, os.path.basename(v)) for k, v in slices_order.items()}\n",
    "\n",
    "# Reconstruct the image from the slices\n",
    "reconstruct_image(slices_order, reconstructed_image_path)\n"
   ]
  },
  {
   "cell_type": "markdown",
   "source": [
    "# by the order of the files in the folder"
   ],
   "metadata": {
    "collapsed": false
   },
   "id": "94c064e01716a277"
  },
  {
   "cell_type": "code",
   "execution_count": 6,
   "outputs": [
    {
     "name": "stdout",
     "output_type": "stream",
     "text": [
      "Reconstructed image saved to /argusdata/users/undergrads/ItamarAndDafna/reconstructed_from_prediction/Dataset030_1030GlyRM1_TrPlusTs_4_folds_250ep/reconstructed_image.tif\n"
     ]
    }
   ],
   "source": [
    "import os\n",
    "import numpy as np\n",
    "from tifffile import imread, imwrite\n",
    "\n",
    "def list_slices_order(folder_path):\n",
    "    \"\"\"List the order of slices from the folder.\"\"\"\n",
    "    slices_order = {}\n",
    "    files = sorted([f for f in os.listdir(folder_path) if f.lower().endswith('.tif')])\n",
    "    for i, file_name in enumerate(files):\n",
    "        slices_order[i] = os.path.join(folder_path, file_name)\n",
    "    return slices_order\n",
    "\n",
    "def reconstruct_image(slices_order, output_path):\n",
    "    \"\"\"Reconstruct the image from the slices.\"\"\"\n",
    "    sorted_slices = sorted(slices_order.items())  # Ensure slices are in correct order\n",
    "    reconstructed_slices = [imread(slice_path) for _, slice_path in sorted_slices]\n",
    "    reconstructed_image = np.stack(reconstructed_slices, axis=0)\n",
    "    imwrite(output_path, reconstructed_image)\n",
    "    print(f\"Reconstructed image saved to {output_path}\")\n",
    "\n",
    "# Specify the directory containing the predicted slices\n",
    "predicted_slices_dir = '/argusdata/users/undergrads/ItamarAndDafna/nnUNet/nnUNet_results/Dataset030_1030GlyRM1/TrPlusTs_4_folds_250ep/'\n",
    "\n",
    "# Specify the output path for the reconstructed image\n",
    "reconstructed_image_path = '/argusdata/users/undergrads/ItamarAndDafna/reconstructed_from_prediction/Dataset030_1030GlyRM1_TrPlusTs_4_folds_250ep/reconstructed_image.tif'\n",
    "\n",
    "# List the slices order from the folder\n",
    "slices_order = list_slices_order(predicted_slices_dir)\n",
    "\n",
    "# Reconstruct the image from the slices\n",
    "reconstruct_image(slices_order, reconstructed_image_path)\n"
   ],
   "metadata": {
    "collapsed": false,
    "ExecuteTime": {
     "end_time": "2024-07-02T11:46:01.848262400Z",
     "start_time": "2024-07-02T11:46:00.070530900Z"
    }
   },
   "id": "d13b3568aa4a167"
  },
  {
   "cell_type": "code",
   "execution_count": null,
   "outputs": [],
   "source": [],
   "metadata": {
    "collapsed": false
   },
   "id": "93663b5374778fa8"
  }
 ],
 "metadata": {
  "kernelspec": {
   "display_name": "Python 3",
   "language": "python",
   "name": "python3"
  },
  "language_info": {
   "codemirror_mode": {
    "name": "ipython",
    "version": 2
   },
   "file_extension": ".py",
   "mimetype": "text/x-python",
   "name": "python",
   "nbconvert_exporter": "python",
   "pygments_lexer": "ipython2",
   "version": "2.7.6"
  }
 },
 "nbformat": 4,
 "nbformat_minor": 5
}
