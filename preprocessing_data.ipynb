{
 "cells": [
  {
   "metadata": {
    "ExecuteTime": {
     "end_time": "2024-06-14T16:15:01.808778Z",
     "start_time": "2024-06-14T16:15:01.806460Z"
    }
   },
   "cell_type": "code",
   "source": [
    "from nnunetv2.preprocessing.preprocessors import default_preprocessor\n",
    "nnUNetv2_plan_and_preprocess -d 201 --verify_dataset_integrity"
   ],
   "id": "a401cba4b2d4093c",
   "outputs": [
    {
     "ename": "SyntaxError",
     "evalue": "invalid syntax (2222951363.py, line 2)",
     "output_type": "error",
     "traceback": [
      "\u001B[0;36m  Cell \u001B[0;32mIn[6], line 2\u001B[0;36m\u001B[0m\n\u001B[0;31m    nnUNetv2_plan_and_preprocess -d 201 --verify_dataset_integrity\u001B[0m\n\u001B[0m                                    ^\u001B[0m\n\u001B[0;31mSyntaxError\u001B[0m\u001B[0;31m:\u001B[0m invalid syntax\n"
     ]
    }
   ],
   "execution_count": 6
  }
 ],
 "metadata": {
  "kernelspec": {
   "display_name": "Python 3 (ipykernel)",
   "language": "python",
   "name": "python3"
  },
  "language_info": {
   "codemirror_mode": {
    "name": "ipython",
    "version": 3
   },
   "file_extension": ".py",
   "mimetype": "text/x-python",
   "name": "python",
   "nbconvert_exporter": "python",
   "pygments_lexer": "ipython3",
   "version": "3.12.3"
  }
 },
 "nbformat": 4,
 "nbformat_minor": 5
}
